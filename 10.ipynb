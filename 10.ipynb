{
 "cells": [
  {
   "cell_type": "markdown",
   "metadata": {},
   "source": [
    "# Защита персональных данных клиентов"
   ]
  },
  {
   "cell_type": "markdown",
   "metadata": {},
   "source": [
    "Задача: защитить данные клиентов страховой компании «Хоть потоп». Необходимо разработать такой метод преобразования данных, чтобы по ним было сложно восстановить персональную информацию, а также обосновать корректность его работы.\n",
    "\n",
    "При разработке метода защиты данных необходимо учитвать, что при преобразовании качество моделей машинного обучения не должно ухудшаться. Подбирать наилучшую модель не требуется."
   ]
  },
  {
   "cell_type": "markdown",
   "metadata": {
    "toc": true
   },
   "source": [
    "<h1>Содержание<span class=\"tocSkip\"></span></h1>\n",
    "<div class=\"toc\"><ul class=\"toc-item\"><li><span><a href=\"#Загрузка-данных\" data-toc-modified-id=\"Загрузка-данных-1\"><span class=\"toc-item-num\">1&nbsp;&nbsp;</span>Загрузка данных</a></span><ul class=\"toc-item\"><li><span><a href=\"#Импорт-библиотек\" data-toc-modified-id=\"Импорт-библиотек-1.1\"><span class=\"toc-item-num\">1.1&nbsp;&nbsp;</span>Импорт библиотек</a></span></li><li><span><a href=\"#Считывание-и-анализ-файла\" data-toc-modified-id=\"Считывание-и-анализ-файла-1.2\"><span class=\"toc-item-num\">1.2&nbsp;&nbsp;</span>Считывание и анализ файла</a></span></li><li><span><a href=\"#Вывод\" data-toc-modified-id=\"Вывод-1.3\"><span class=\"toc-item-num\">1.3&nbsp;&nbsp;</span>Вывод</a></span></li></ul></li><li><span><a href=\"#Умножение-матриц\" data-toc-modified-id=\"Умножение-матриц-2\"><span class=\"toc-item-num\">2&nbsp;&nbsp;</span>Умножение матриц</a></span></li><li><span><a href=\"#Алгоритм-преобразования\" data-toc-modified-id=\"Алгоритм-преобразования-3\"><span class=\"toc-item-num\">3&nbsp;&nbsp;</span>Алгоритм преобразования</a></span></li><li><span><a href=\"#Проверка-алгоритма\" data-toc-modified-id=\"Проверка-алгоритма-4\"><span class=\"toc-item-num\">4&nbsp;&nbsp;</span>Проверка алгоритма</a></span><ul class=\"toc-item\"><li><span><a href=\"#Класс-LinearRegression\" data-toc-modified-id=\"Класс-LinearRegression-4.1\"><span class=\"toc-item-num\">4.1&nbsp;&nbsp;</span>Класс LinearRegression</a></span></li><li><span><a href=\"#Класс-MatrixEncrypt\" data-toc-modified-id=\"Класс-MatrixEncrypt-4.2\"><span class=\"toc-item-num\">4.2&nbsp;&nbsp;</span>Класс MatrixEncrypt</a></span></li><li><span><a href=\"#Разделение-данных-на-признаки\" data-toc-modified-id=\"Разделение-данных-на-признаки-4.3\"><span class=\"toc-item-num\">4.3&nbsp;&nbsp;</span>Разделение данных на признаки</a></span></li><li><span><a href=\"#Создание-модели-на-незашифрованных-признаках\" data-toc-modified-id=\"Создание-модели-на-незашифрованных-признаках-4.4\"><span class=\"toc-item-num\">4.4&nbsp;&nbsp;</span>Создание модели на незашифрованных признаках</a></span></li><li><span><a href=\"#Шифрование-признаков\" data-toc-modified-id=\"Шифрование-признаков-4.5\"><span class=\"toc-item-num\">4.5&nbsp;&nbsp;</span>Шифрование признаков</a></span></li><li><span><a href=\"#Создание-модели-на-зашифрованных-признаках\" data-toc-modified-id=\"Создание-модели-на-зашифрованных-признаках-4.6\"><span class=\"toc-item-num\">4.6&nbsp;&nbsp;</span>Создание модели на зашифрованных признаках</a></span></li><li><span><a href=\"#Расшифрование-признаков\" data-toc-modified-id=\"Расшифрование-признаков-4.7\"><span class=\"toc-item-num\">4.7&nbsp;&nbsp;</span>Расшифрование признаков</a></span></li></ul></li><li><span><a href=\"#Выводы\" data-toc-modified-id=\"Выводы-5\"><span class=\"toc-item-num\">5&nbsp;&nbsp;</span>Выводы</a></span></li></ul></div>"
   ]
  },
  {
   "cell_type": "markdown",
   "metadata": {},
   "source": [
    "## Загрузка данных"
   ]
  },
  {
   "cell_type": "markdown",
   "metadata": {},
   "source": [
    "### Импорт библиотек"
   ]
  },
  {
   "cell_type": "code",
   "execution_count": 1,
   "metadata": {},
   "outputs": [],
   "source": [
    "import pandas as pd\n",
    "import numpy as np\n",
    "from sklearn.metrics import r2_score"
   ]
  },
  {
   "cell_type": "markdown",
   "metadata": {},
   "source": [
    "### Считывание и анализ файла"
   ]
  },
  {
   "cell_type": "markdown",
   "metadata": {},
   "source": [
    "Считываем файл и выводим на экран первые 5 строк."
   ]
  },
  {
   "cell_type": "code",
   "execution_count": 2,
   "metadata": {},
   "outputs": [
    {
     "data": {
      "text/html": [
       "<div>\n",
       "<style scoped>\n",
       "    .dataframe tbody tr th:only-of-type {\n",
       "        vertical-align: middle;\n",
       "    }\n",
       "\n",
       "    .dataframe tbody tr th {\n",
       "        vertical-align: top;\n",
       "    }\n",
       "\n",
       "    .dataframe thead th {\n",
       "        text-align: right;\n",
       "    }\n",
       "</style>\n",
       "<table border=\"1\" class=\"dataframe\">\n",
       "  <thead>\n",
       "    <tr style=\"text-align: right;\">\n",
       "      <th></th>\n",
       "      <th>Пол</th>\n",
       "      <th>Возраст</th>\n",
       "      <th>Зарплата</th>\n",
       "      <th>Члены семьи</th>\n",
       "      <th>Страховые выплаты</th>\n",
       "    </tr>\n",
       "  </thead>\n",
       "  <tbody>\n",
       "    <tr>\n",
       "      <th>0</th>\n",
       "      <td>1</td>\n",
       "      <td>41.0</td>\n",
       "      <td>49600.0</td>\n",
       "      <td>1</td>\n",
       "      <td>0</td>\n",
       "    </tr>\n",
       "    <tr>\n",
       "      <th>1</th>\n",
       "      <td>0</td>\n",
       "      <td>46.0</td>\n",
       "      <td>38000.0</td>\n",
       "      <td>1</td>\n",
       "      <td>1</td>\n",
       "    </tr>\n",
       "    <tr>\n",
       "      <th>2</th>\n",
       "      <td>0</td>\n",
       "      <td>29.0</td>\n",
       "      <td>21000.0</td>\n",
       "      <td>0</td>\n",
       "      <td>0</td>\n",
       "    </tr>\n",
       "    <tr>\n",
       "      <th>3</th>\n",
       "      <td>0</td>\n",
       "      <td>21.0</td>\n",
       "      <td>41700.0</td>\n",
       "      <td>2</td>\n",
       "      <td>0</td>\n",
       "    </tr>\n",
       "    <tr>\n",
       "      <th>4</th>\n",
       "      <td>1</td>\n",
       "      <td>28.0</td>\n",
       "      <td>26100.0</td>\n",
       "      <td>0</td>\n",
       "      <td>0</td>\n",
       "    </tr>\n",
       "  </tbody>\n",
       "</table>\n",
       "</div>"
      ],
      "text/plain": [
       "   Пол  Возраст  Зарплата  Члены семьи  Страховые выплаты\n",
       "0    1     41.0   49600.0            1                  0\n",
       "1    0     46.0   38000.0            1                  1\n",
       "2    0     29.0   21000.0            0                  0\n",
       "3    0     21.0   41700.0            2                  0\n",
       "4    1     28.0   26100.0            0                  0"
      ]
     },
     "execution_count": 2,
     "metadata": {},
     "output_type": "execute_result"
    }
   ],
   "source": [
    "try:\n",
    "    df = pd.read_csv('C:\\\\Users\\\\maria\\\\OneDrive\\\\Masha\\\\data_science\\\\projects\\\\datasets\\\\insurance.csv')\n",
    "except FileNotFoundError:\n",
    "    df = pd.read_csv('/datasets/insurance.csv')\n",
    "df.head()"
   ]
  },
  {
   "cell_type": "markdown",
   "metadata": {},
   "source": [
    "Выводим сведения о данных."
   ]
  },
  {
   "cell_type": "code",
   "execution_count": 3,
   "metadata": {},
   "outputs": [
    {
     "name": "stdout",
     "output_type": "stream",
     "text": [
      "<class 'pandas.core.frame.DataFrame'>\n",
      "RangeIndex: 5000 entries, 0 to 4999\n",
      "Data columns (total 5 columns):\n",
      " #   Column             Non-Null Count  Dtype  \n",
      "---  ------             --------------  -----  \n",
      " 0   Пол                5000 non-null   int64  \n",
      " 1   Возраст            5000 non-null   float64\n",
      " 2   Зарплата           5000 non-null   float64\n",
      " 3   Члены семьи        5000 non-null   int64  \n",
      " 4   Страховые выплаты  5000 non-null   int64  \n",
      "dtypes: float64(2), int64(3)\n",
      "memory usage: 195.4 KB\n"
     ]
    }
   ],
   "source": [
    "df.info()"
   ]
  },
  {
   "cell_type": "markdown",
   "metadata": {},
   "source": [
    "Проверяем наличие нулевых значений."
   ]
  },
  {
   "cell_type": "code",
   "execution_count": 4,
   "metadata": {},
   "outputs": [
    {
     "data": {
      "text/plain": [
       "Пол                  False\n",
       "Возраст              False\n",
       "Зарплата             False\n",
       "Члены семьи          False\n",
       "Страховые выплаты    False\n",
       "dtype: bool"
      ]
     },
     "execution_count": 4,
     "metadata": {},
     "output_type": "execute_result"
    }
   ],
   "source": [
    "df.isna().any()"
   ]
  },
  {
   "cell_type": "markdown",
   "metadata": {},
   "source": [
    "Исследуем распределение данных."
   ]
  },
  {
   "cell_type": "code",
   "execution_count": 5,
   "metadata": {},
   "outputs": [
    {
     "data": {
      "image/png": "[encoded data removed]",
      "text/plain": [
       "<Figure size 1440x720 with 6 Axes>"
      ]
     },
     "metadata": {
      "needs_background": "light"
     },
     "output_type": "display_data"
    }
   ],
   "source": [
    "df.hist(figsize=(20, 10));"
   ]
  },
  {
   "cell_type": "markdown",
   "metadata": {},
   "source": [
    "Проверяем наличие дубликатов и выводим 5 строк-дубликатов."
   ]
  },
  {
   "cell_type": "code",
   "execution_count": 6,
   "metadata": {},
   "outputs": [
    {
     "name": "stdout",
     "output_type": "stream",
     "text": [
      "Число дубликатов: 153\n"
     ]
    },
    {
     "data": {
      "text/html": [
       "<div>\n",
       "<style scoped>\n",
       "    .dataframe tbody tr th:only-of-type {\n",
       "        vertical-align: middle;\n",
       "    }\n",
       "\n",
       "    .dataframe tbody tr th {\n",
       "        vertical-align: top;\n",
       "    }\n",
       "\n",
       "    .dataframe thead th {\n",
       "        text-align: right;\n",
       "    }\n",
       "</style>\n",
       "<table border=\"1\" class=\"dataframe\">\n",
       "  <thead>\n",
       "    <tr style=\"text-align: right;\">\n",
       "      <th></th>\n",
       "      <th>Пол</th>\n",
       "      <th>Возраст</th>\n",
       "      <th>Зарплата</th>\n",
       "      <th>Члены семьи</th>\n",
       "      <th>Страховые выплаты</th>\n",
       "    </tr>\n",
       "  </thead>\n",
       "  <tbody>\n",
       "    <tr>\n",
       "      <th>281</th>\n",
       "      <td>1</td>\n",
       "      <td>39.0</td>\n",
       "      <td>48100.0</td>\n",
       "      <td>1</td>\n",
       "      <td>0</td>\n",
       "    </tr>\n",
       "    <tr>\n",
       "      <th>488</th>\n",
       "      <td>1</td>\n",
       "      <td>24.0</td>\n",
       "      <td>32900.0</td>\n",
       "      <td>1</td>\n",
       "      <td>0</td>\n",
       "    </tr>\n",
       "    <tr>\n",
       "      <th>513</th>\n",
       "      <td>0</td>\n",
       "      <td>31.0</td>\n",
       "      <td>37400.0</td>\n",
       "      <td>2</td>\n",
       "      <td>0</td>\n",
       "    </tr>\n",
       "    <tr>\n",
       "      <th>718</th>\n",
       "      <td>1</td>\n",
       "      <td>22.0</td>\n",
       "      <td>32600.0</td>\n",
       "      <td>1</td>\n",
       "      <td>0</td>\n",
       "    </tr>\n",
       "    <tr>\n",
       "      <th>785</th>\n",
       "      <td>0</td>\n",
       "      <td>20.0</td>\n",
       "      <td>35800.0</td>\n",
       "      <td>0</td>\n",
       "      <td>0</td>\n",
       "    </tr>\n",
       "  </tbody>\n",
       "</table>\n",
       "</div>"
      ],
      "text/plain": [
       "     Пол  Возраст  Зарплата  Члены семьи  Страховые выплаты\n",
       "281    1     39.0   48100.0            1                  0\n",
       "488    1     24.0   32900.0            1                  0\n",
       "513    0     31.0   37400.0            2                  0\n",
       "718    1     22.0   32600.0            1                  0\n",
       "785    0     20.0   35800.0            0                  0"
      ]
     },
     "execution_count": 6,
     "metadata": {},
     "output_type": "execute_result"
    }
   ],
   "source": [
    "print('Число дубликатов:', df.duplicated().sum())\n",
    "df[df.duplicated()].head()"
   ]
  },
  {
   "cell_type": "markdown",
   "metadata": {},
   "source": [
    "### Вывод"
   ]
  },
  {
   "cell_type": "markdown",
   "metadata": {},
   "source": [
    "Исходный файл содержит 5000 строк и 5 столбцов. Типы данных заданы правильно. Строки не содержат нулевых значений. Имеется несколько дубликатов, что скорее всего вызвано совпадением данных, поэтому не будем удалять их. Изучив распределение данных в столбцах, можно сказать, что в таблице представлены адекватные данные, выбросы отсутствуют. Поэтому предобработка данных не требуется."
   ]
  },
  {
   "cell_type": "markdown",
   "metadata": {},
   "source": [
    "## Умножение матриц"
   ]
  },
  {
   "cell_type": "markdown",
   "metadata": {},
   "source": [
    "Обозначения:\n",
    "\n",
    "- $X$ — матрица признаков (нулевой столбец состоит из единиц)\n",
    "\n",
    "- $y$ — вектор целевого признака\n",
    "\n",
    "- $P$ — матрица, на которую умножаются признаки\n",
    "\n",
    "- $w$ — вектор весов линейной регрессии (нулевой элемент равен сдвигу)"
   ]
  },
  {
   "cell_type": "markdown",
   "metadata": {},
   "source": [
    "Предсказания:\n",
    "\n",
    "$$\n",
    "a = Xw\n",
    "$$\n",
    "\n",
    "Задача обучения:\n",
    "\n",
    "$$\n",
    "w = \\arg\\min_w MSE(Xw, y)\n",
    "$$\n",
    "\n",
    "Формула обучения:\n",
    "\n",
    "$$\n",
    "w = (X^T X)^{-1} X^T y\n",
    "$$"
   ]
  },
  {
   "cell_type": "markdown",
   "metadata": {},
   "source": [
    "**Вопрос.** Изменится ли качество линейной регрессии, если признаки умножить на обратимую матрицу?"
   ]
  },
  {
   "cell_type": "markdown",
   "metadata": {},
   "source": [
    "**Ответ.** Не изменится."
   ]
  },
  {
   "cell_type": "markdown",
   "metadata": {},
   "source": [
    "**Обоснование.**\n",
    "\n",
    "Домножим исходную матрицу $X$ на обратимую матрицу $P$:  \n",
    "$X_1 = XP$  \n",
    "Вычислим новые предсказание и вектор весов:  \n",
    "$a_1 = X_1w_1$  \n",
    "$w_1 = (X_1^T X_1)^{-1} X_1^T y$  \n",
    "Подставим вектор весов $w_1$ в выражение для предсказания $a_1$:  \n",
    "$a_1 = X_1 (X_1^T X_1)^{-1} X_1^T$  \n",
    "Заменим $X_1$ на $XP$:  \n",
    "$a_1 = XP ((XP)^T XP)^{-1} (XP)^T y$  \n",
    "Поскольку транспонирование произведения матриц равно произведению транспонированных матриц, взятых в обратном порядке, получаем:  \n",
    "$a_1 = XP (P^T X^T X P)^{-1} P^T X^T y$  \n",
    "Воспользуемся тем, что матрица, обратная произведению матриц, равна произведению матриц, обратных матрицам-сомножителям, взятому в обратном порядке:  \n",
    "$a_1 = XP P^{-1} (X^T X)^{-1} (P^T)^{-1} P^T X^T y$  \n",
    "Поскольку $P P^{-1} = E$,  $(P^T)^{-1} P^T = E$, получаем  \n",
    "$a_1 = X (X^T X)^{-1} X^T y$  \n",
    "$a_1 = X w$  \n",
    "$a_1 = a$\n",
    "\n",
    "Таким образом, мы получили, что предсказания до и после преобразования совпадают."
   ]
  },
  {
   "cell_type": "markdown",
   "metadata": {},
   "source": [
    "## Алгоритм преобразования"
   ]
  },
  {
   "cell_type": "markdown",
   "metadata": {},
   "source": [
    "**Задача**\n",
    "\n",
    "Преобразовать данные так, чтобы:  \n",
    "1) по ним можно было восстановить персональную информацию,  \n",
    "2) качество модели машинного обучения не ухудшилось."
   ]
  },
  {
   "cell_type": "markdown",
   "metadata": {},
   "source": [
    "**Алгоритм**\n",
    "\n",
    "1) Создаем случайную матрицу $P$ размера $nxn$, где $n$ — число обучающих признаков.  \n",
    "2) Проверяем, что матрица $P$ имеет обратную.  \n",
    "3) Умножаем обучающие признаки $X$ на матрицу $P$. Получаем зашифрованную матрицу признаков $X_{enc}$.  \n",
    "4) Обучаем модель на зашифрованных признаках.  \n",
    "5) Для дешифрования данных их необходимо умножить на матрицу $P^{-1}$, обтатную к $P$."
   ]
  },
  {
   "cell_type": "markdown",
   "metadata": {},
   "source": [
    "**Обоснование**\n",
    "\n",
    "При умножении исходной матрицы признаков $X$ на обратимую матрицу $P$ предсказание не меняется, как было показано в пункте 2. Следовательно, не изменится и качество модели машинного обучения."
   ]
  },
  {
   "cell_type": "markdown",
   "metadata": {},
   "source": [
    "## Проверка алгоритма"
   ]
  },
  {
   "cell_type": "markdown",
   "metadata": {},
   "source": [
    "### Класс LinearRegression"
   ]
  },
  {
   "cell_type": "code",
   "execution_count": 7,
   "metadata": {},
   "outputs": [],
   "source": [
    "class LinearRegression:\n",
    "    # Метод fit принимает на вход обучающие признаки и целевой признак,\n",
    "    # вычисляет атрибуты w и w0.\n",
    "    \n",
    "    def fit(self, train_features, train_target):\n",
    "        X = np.concatenate((np.ones((train_features.shape[0], 1)), train_features), axis=1)\n",
    "        y = train_target\n",
    "        w = np.linalg.inv(np.dot(X.T, X)).dot(X.T).dot(y)\n",
    "        self.w = w[1:]\n",
    "        self.w0 = w[0]\n",
    "\n",
    "    # Метод predict принимает на вход признаки и вычисляет предсказание.\n",
    "    \n",
    "    def predict(self, test_features):\n",
    "        return test_features.dot(self.w) + self.w0"
   ]
  },
  {
   "cell_type": "markdown",
   "metadata": {},
   "source": [
    "### Класс MatrixEncrypt"
   ]
  },
  {
   "cell_type": "code",
   "execution_count": 8,
   "metadata": {},
   "outputs": [],
   "source": [
    "class MatrixEncrypt:\n",
    "    # Метод зашифровывает матрицу X путем умножения на обратимую матрицу\n",
    "    \n",
    "    def encrypt(self, X):\n",
    "        X_enc = X @ self.K_enc\n",
    "        return X_enc \n",
    "    \n",
    "    # Метод расшифровывает матрицу X_enc путем умножения на обратную матрицу\n",
    "    \n",
    "    def decrypt(self, X_enc):\n",
    "        X = X_enc @ self.K_dec\n",
    "        return X\n",
    "    \n",
    "    # Метод определяет атрибуты: ключи шифрования и дешифрования\n",
    "    \n",
    "    def create_keys(self, n):\n",
    "        num_retries = 5\n",
    "        \n",
    "        # При создании матрицы учитывается вероятность создания необратимой матрицы.\n",
    "        # Для этого используется цикл в 5 попыток создания обратимой матрицы.\n",
    "        \n",
    "        for attempt_num in range(num_retries):\n",
    "            try:\n",
    "                K_enc = np.random.normal(size=(n,n)) # Создание квадратной матрицы - ключа шифрования\n",
    "                K_dec = np.linalg.inv(K_enc) # Получение обратной матрицы - ключа дешифрования\n",
    "                self.K_enc = K_enc\n",
    "                self.K_dec = K_dec\n",
    "                return True\n",
    "            except np.linalg.LinAlgError as error:\n",
    "                if (attempt_num < num_retries - 1):\n",
    "                    pass\n",
    "                else:\n",
    "                    raise error"
   ]
  },
  {
   "cell_type": "markdown",
   "metadata": {},
   "source": [
    "### Разделение данных на признаки"
   ]
  },
  {
   "cell_type": "code",
   "execution_count": 9,
   "metadata": {},
   "outputs": [
    {
     "data": {
      "text/html": [
       "<div>\n",
       "<style scoped>\n",
       "    .dataframe tbody tr th:only-of-type {\n",
       "        vertical-align: middle;\n",
       "    }\n",
       "\n",
       "    .dataframe tbody tr th {\n",
       "        vertical-align: top;\n",
       "    }\n",
       "\n",
       "    .dataframe thead th {\n",
       "        text-align: right;\n",
       "    }\n",
       "</style>\n",
       "<table border=\"1\" class=\"dataframe\">\n",
       "  <thead>\n",
       "    <tr style=\"text-align: right;\">\n",
       "      <th></th>\n",
       "      <th>Пол</th>\n",
       "      <th>Возраст</th>\n",
       "      <th>Зарплата</th>\n",
       "      <th>Члены семьи</th>\n",
       "    </tr>\n",
       "  </thead>\n",
       "  <tbody>\n",
       "    <tr>\n",
       "      <th>0</th>\n",
       "      <td>1</td>\n",
       "      <td>41.0</td>\n",
       "      <td>49600.0</td>\n",
       "      <td>1</td>\n",
       "    </tr>\n",
       "    <tr>\n",
       "      <th>1</th>\n",
       "      <td>0</td>\n",
       "      <td>46.0</td>\n",
       "      <td>38000.0</td>\n",
       "      <td>1</td>\n",
       "    </tr>\n",
       "    <tr>\n",
       "      <th>2</th>\n",
       "      <td>0</td>\n",
       "      <td>29.0</td>\n",
       "      <td>21000.0</td>\n",
       "      <td>0</td>\n",
       "    </tr>\n",
       "    <tr>\n",
       "      <th>3</th>\n",
       "      <td>0</td>\n",
       "      <td>21.0</td>\n",
       "      <td>41700.0</td>\n",
       "      <td>2</td>\n",
       "    </tr>\n",
       "    <tr>\n",
       "      <th>4</th>\n",
       "      <td>1</td>\n",
       "      <td>28.0</td>\n",
       "      <td>26100.0</td>\n",
       "      <td>0</td>\n",
       "    </tr>\n",
       "  </tbody>\n",
       "</table>\n",
       "</div>"
      ],
      "text/plain": [
       "   Пол  Возраст  Зарплата  Члены семьи\n",
       "0    1     41.0   49600.0            1\n",
       "1    0     46.0   38000.0            1\n",
       "2    0     29.0   21000.0            0\n",
       "3    0     21.0   41700.0            2\n",
       "4    1     28.0   26100.0            0"
      ]
     },
     "metadata": {},
     "output_type": "display_data"
    },
    {
     "data": {
      "text/plain": [
       "0    0\n",
       "1    1\n",
       "2    0\n",
       "3    0\n",
       "4    0\n",
       "Name: Страховые выплаты, dtype: int64"
      ]
     },
     "metadata": {},
     "output_type": "display_data"
    }
   ],
   "source": [
    "# Разделяем данные на обучающие и целевой признак\n",
    "\n",
    "features = df.drop('Страховые выплаты', axis=1)\n",
    "target = df['Страховые выплаты']\n",
    "display(features.head())\n",
    "display(target.head())"
   ]
  },
  {
   "cell_type": "markdown",
   "metadata": {},
   "source": [
    "### Создание модели на незашифрованных признаках"
   ]
  },
  {
   "cell_type": "code",
   "execution_count": 10,
   "metadata": {},
   "outputs": [
    {
     "name": "stdout",
     "output_type": "stream",
     "text": [
      "R2 для модели с незашифрованными данными: 0.4249455028666801\n"
     ]
    }
   ],
   "source": [
    "# Создаем модель линейной регрессии, обучаем ее на признаках\n",
    "# и считаем качество модели\n",
    "\n",
    "model = LinearRegression()\n",
    "model.fit(features, target)\n",
    "predictions = model.predict(features)\n",
    "r2 = r2_score(target, predictions)\n",
    "print('R2 для модели с незашифрованными данными:', r2)"
   ]
  },
  {
   "cell_type": "markdown",
   "metadata": {},
   "source": [
    "### Шифрование признаков"
   ]
  },
  {
   "cell_type": "code",
   "execution_count": 11,
   "metadata": {},
   "outputs": [
    {
     "name": "stdout",
     "output_type": "stream",
     "text": [
      "                 0             1             2             3\n",
      "0    -41788.214306  48136.103724  11137.405364 -46903.602972\n",
      "1    -31999.996288  36882.716860   8518.571877 -35969.658135\n",
      "2    -17680.197348  20384.453788   4702.816856 -19884.865591\n",
      "3    -35146.748678  40462.193198   9381.011116 -39404.591134\n",
      "4    -21982.569728  25333.106740   5852.215912 -24694.779742\n",
      "...            ...           ...           ...           ...\n",
      "4995 -30079.474526  34643.647035   8021.092255 -33759.493005\n",
      "4996 -44156.496151  50848.980971  11777.272172 -49529.290023\n",
      "4997 -28569.724954  32894.393908   7623.858307 -32041.983686\n",
      "4998 -27556.521482  31730.912421   7351.794085 -30917.113299\n",
      "4999 -34211.577121  39399.700515   9122.520160 -38380.161007\n",
      "\n",
      "[5000 rows x 4 columns]\n"
     ]
    }
   ],
   "source": [
    "# Шифрование признаков\n",
    "\n",
    "algorythm = MatrixEncrypt()\n",
    "if algorythm.create_keys(features.shape[1]):\n",
    "    features_enc = algorythm.encrypt(features)\n",
    "    print(features_enc)"
   ]
  },
  {
   "cell_type": "markdown",
   "metadata": {},
   "source": [
    "### Создание модели на зашифрованных признаках"
   ]
  },
  {
   "cell_type": "code",
   "execution_count": 12,
   "metadata": {},
   "outputs": [
    {
     "name": "stdout",
     "output_type": "stream",
     "text": [
      "R2 для модели с зашифрованными данными: 0.42494550286666877\n"
     ]
    }
   ],
   "source": [
    "# Создаем модель для обучения на зашифрованных признаках\n",
    "\n",
    "model_enc = LinearRegression()\n",
    "model_enc.fit(features_enc, target)\n",
    "predictions_enc = model_enc.predict(features_enc)\n",
    "r2_enc = r2_score(target, predictions_enc)\n",
    "print('R2 для модели с зашифрованными данными:', r2_enc)"
   ]
  },
  {
   "cell_type": "code",
   "execution_count": 13,
   "metadata": {},
   "outputs": [
    {
     "name": "stdout",
     "output_type": "stream",
     "text": [
      "R2 для модели с незашифрованными данными: 0.4249455028666801\n",
      "R2 для модели с зашифрованными данными:   0.42494550286666877\n"
     ]
    }
   ],
   "source": [
    "# Сравним метрики качества обеих моделей:\n",
    "\n",
    "print('R2 для модели с незашифрованными данными:', r2)\n",
    "print('R2 для модели с зашифрованными данными:  ', r2_enc)"
   ]
  },
  {
   "cell_type": "markdown",
   "metadata": {},
   "source": [
    "**Вывод:** значения метрик качества R2 практически совпадают для обеих моделей."
   ]
  },
  {
   "cell_type": "markdown",
   "metadata": {},
   "source": [
    "### Расшифрование признаков"
   ]
  },
  {
   "cell_type": "code",
   "execution_count": 14,
   "metadata": {},
   "outputs": [
    {
     "name": "stdout",
     "output_type": "stream",
     "text": [
      "      0  1  2  3\n",
      "0     0  0  0  0\n",
      "1     0  0  0  0\n",
      "2     0  0  0  0\n",
      "3     0  0  0  0\n",
      "4     0  0  0  0\n",
      "...  .. .. .. ..\n",
      "4995  0  0  0  0\n",
      "4996  0  0  0  0\n",
      "4997  0  0  0  0\n",
      "4998  0  0  0  0\n",
      "4999  0  0  0  0\n",
      "\n",
      "[5000 rows x 4 columns]\n"
     ]
    }
   ],
   "source": [
    "# Проверим, что исходные данные можно восстановить из зашифрованных\n",
    "# Умножим зашифрованные данные на ключ дешифрования и сравним с исходными\n",
    "\n",
    "features_decr = algorythm.decrypt(features_enc)\n",
    "result = features_decr - features.values\n",
    "print(np.round(result).astype(int))"
   ]
  },
  {
   "cell_type": "markdown",
   "metadata": {},
   "source": [
    "**Вывод**\n",
    "\n",
    "Разность дешифрованной и исходной матриц равна нулевой матрице, то есть в результате расшифровании получились исходные значения."
   ]
  },
  {
   "cell_type": "markdown",
   "metadata": {},
   "source": [
    "## Выводы"
   ]
  },
  {
   "cell_type": "markdown",
   "metadata": {},
   "source": [
    "Цель проекта заключается в создании алгоритма преобразования данных, с помощью которого можно защитить персональные данные клиентов страховой компании и при этом не ухудшить качество модели машинного обучения.\n",
    "\n",
    "Мы получили исходные данные в виде файла, содержащего 5000 строк и 5 столбцов. Проанализировав файл, мы установили, что типы данных заданы правильно, строки не содержат нулевых значений, несколько дубликатов вызвано простым совпадением данных. Распределение данных в столбцах также адекватное, без выбросов. Из этого мы сделали вывод, что преобработка данных не требуется.\n",
    "\n",
    "Затем мы доказали, что при умножении признаков на обратимую матрицу качество линейной регрессии не меняется.\n",
    "\n",
    "Основываясь на этом утверждении, мы предложили алгоритм защиты данных клиента путем домножения матрицы обучающих признаком на обратимую матрицу.\n",
    "\n",
    "Далее мы проверили этот алгоритм:  \n",
    "- Разделили данные на обучающие и целевой признаки\n",
    "- Создали класс *LinearRegression* с методами *fit* для вычисления вектора весов линейной регрессии и *predict* для вычисления предсказания\n",
    "- Создали класс *MatrixEncrypt* с методами *encrypt* (шифрование), *decrypt* (расшифрование) и *create_keys* (создание ключей шифрования и расшифрования)\n",
    "- Создали модель линейной регрессии, обучили ее на незашифрованных данных и рассчитали метрику качества R2\n",
    "- Создали объект класса *MatrixEncrypt*, ключи шифрования и зашифровали исходные обучающие признаки\n",
    "- Создали новую модель линейной регрессии, обучили ее на зашифрованных данных, рассчитали метрику качества R2 и получили значение, аналогичное первой модели\n",
    "- Расшифровали зашифрованные признаки и получили исходные данные\n",
    "\n",
    "В результате мы делаем вывод, что предложенный алгоритм можно использовать для защиты данных клиентов."
   ]
  }
 ],
 "metadata": {
  "ExecuteTimeLog": [
   {
    "duration": 384,
    "start_time": "2022-10-19T06:48:03.888Z"
   },
   {
    "duration": 109,
    "start_time": "2022-10-19T06:49:24.699Z"
   },
   {
    "duration": 15,
    "start_time": "2022-10-19T06:50:48.239Z"
   },
   {
    "duration": 7,
    "start_time": "2022-10-19T06:51:29.637Z"
   },
   {
    "duration": 5,
    "start_time": "2022-10-19T06:51:42.315Z"
   },
   {
    "duration": 17,
    "start_time": "2022-10-19T06:52:34.694Z"
   },
   {
    "duration": 33,
    "start_time": "2022-10-19T07:22:32.855Z"
   },
   {
    "duration": 13,
    "start_time": "2022-10-19T07:22:49.082Z"
   },
   {
    "duration": 17,
    "start_time": "2022-10-19T07:23:44.600Z"
   },
   {
    "duration": 94,
    "start_time": "2022-10-19T07:24:02.055Z"
   },
   {
    "duration": 10,
    "start_time": "2022-10-19T07:24:06.412Z"
   },
   {
    "duration": 759,
    "start_time": "2022-10-19T07:24:08.176Z"
   },
   {
    "duration": 3,
    "start_time": "2022-10-19T07:25:17.860Z"
   },
   {
    "duration": 145,
    "start_time": "2022-10-19T07:28:16.289Z"
   },
   {
    "duration": 231,
    "start_time": "2022-10-19T07:28:23.222Z"
   },
   {
    "duration": 234,
    "start_time": "2022-10-19T07:29:00.703Z"
   },
   {
    "duration": 484,
    "start_time": "2022-10-19T07:29:47.662Z"
   },
   {
    "duration": 573,
    "start_time": "2022-10-19T07:29:56.140Z"
   },
   {
    "duration": 13,
    "start_time": "2022-10-19T07:30:42.943Z"
   },
   {
    "duration": 14,
    "start_time": "2022-10-19T07:30:49.533Z"
   },
   {
    "duration": 2,
    "start_time": "2022-10-19T07:34:54.730Z"
   },
   {
    "duration": 18,
    "start_time": "2022-10-19T07:35:15.874Z"
   },
   {
    "duration": 8,
    "start_time": "2022-10-19T07:35:21.152Z"
   },
   {
    "duration": 5,
    "start_time": "2022-10-19T07:35:33.631Z"
   },
   {
    "duration": 7,
    "start_time": "2022-10-19T07:35:39.048Z"
   },
   {
    "duration": 11,
    "start_time": "2022-10-19T07:35:51.602Z"
   },
   {
    "duration": 6,
    "start_time": "2022-10-19T07:35:54.810Z"
   },
   {
    "duration": 3,
    "start_time": "2022-10-25T07:39:21.460Z"
   },
   {
    "duration": 42,
    "start_time": "2022-10-25T07:39:33.737Z"
   },
   {
    "duration": 768,
    "start_time": "2022-10-25T07:39:40.119Z"
   },
   {
    "duration": 105,
    "start_time": "2022-10-25T07:39:40.889Z"
   },
   {
    "duration": 10,
    "start_time": "2022-10-25T07:39:40.995Z"
   },
   {
    "duration": 30,
    "start_time": "2022-10-25T07:39:41.007Z"
   },
   {
    "duration": 606,
    "start_time": "2022-10-25T07:39:41.039Z"
   },
   {
    "duration": 14,
    "start_time": "2022-10-25T07:39:41.647Z"
   },
   {
    "duration": 4,
    "start_time": "2022-10-25T07:39:41.662Z"
   },
   {
    "duration": 4,
    "start_time": "2022-10-25T07:39:45.537Z"
   },
   {
    "duration": 7,
    "start_time": "2022-10-25T07:40:09.706Z"
   },
   {
    "duration": 10,
    "start_time": "2022-10-25T07:40:23.121Z"
   },
   {
    "duration": 5,
    "start_time": "2022-10-25T07:54:58.567Z"
   },
   {
    "duration": 146,
    "start_time": "2022-10-25T07:55:49.078Z"
   },
   {
    "duration": 663,
    "start_time": "2022-10-25T07:56:26.023Z"
   },
   {
    "duration": 11,
    "start_time": "2022-10-25T07:56:32.612Z"
   },
   {
    "duration": 5,
    "start_time": "2022-10-25T07:56:34.445Z"
   },
   {
    "duration": 7,
    "start_time": "2022-10-25T07:56:36.389Z"
   },
   {
    "duration": 8,
    "start_time": "2022-10-25T07:57:22.120Z"
   },
   {
    "duration": 7,
    "start_time": "2022-10-25T07:57:27.806Z"
   },
   {
    "duration": 4,
    "start_time": "2022-10-25T08:25:29.872Z"
   },
   {
    "duration": 36,
    "start_time": "2022-10-25T08:38:08.270Z"
   },
   {
    "duration": 3,
    "start_time": "2022-10-25T08:38:10.509Z"
   },
   {
    "duration": 10,
    "start_time": "2022-10-25T08:38:11.670Z"
   },
   {
    "duration": 11,
    "start_time": "2022-10-25T08:38:36.333Z"
   },
   {
    "duration": 4,
    "start_time": "2022-10-25T08:39:19.294Z"
   },
   {
    "duration": 13,
    "start_time": "2022-10-25T08:39:20.735Z"
   },
   {
    "duration": 4,
    "start_time": "2022-10-25T08:39:29.143Z"
   },
   {
    "duration": 14,
    "start_time": "2022-10-25T08:39:30.366Z"
   },
   {
    "duration": 4,
    "start_time": "2022-10-25T08:49:29.109Z"
   },
   {
    "duration": 12,
    "start_time": "2022-10-25T08:49:32.868Z"
   },
   {
    "duration": 9,
    "start_time": "2022-10-25T08:50:09.952Z"
   },
   {
    "duration": 4,
    "start_time": "2022-10-25T08:50:24.273Z"
   },
   {
    "duration": 14,
    "start_time": "2022-10-25T08:50:25.623Z"
   },
   {
    "duration": 6,
    "start_time": "2022-10-25T08:50:56.098Z"
   },
   {
    "duration": 5,
    "start_time": "2022-10-25T08:51:03.638Z"
   },
   {
    "duration": 13,
    "start_time": "2022-10-25T08:51:04.966Z"
   },
   {
    "duration": 5,
    "start_time": "2022-10-25T08:51:32.369Z"
   },
   {
    "duration": 13,
    "start_time": "2022-10-25T08:51:34.362Z"
   },
   {
    "duration": 5,
    "start_time": "2022-10-25T08:51:54.659Z"
   },
   {
    "duration": 14,
    "start_time": "2022-10-25T08:51:56.069Z"
   },
   {
    "duration": 4,
    "start_time": "2022-10-25T08:55:17.620Z"
   },
   {
    "duration": 83,
    "start_time": "2022-10-25T08:55:19.238Z"
   },
   {
    "duration": 5,
    "start_time": "2022-10-25T08:55:40.118Z"
   },
   {
    "duration": 99,
    "start_time": "2022-10-25T08:55:41.807Z"
   },
   {
    "duration": 5,
    "start_time": "2022-10-25T08:56:03.032Z"
   },
   {
    "duration": 12,
    "start_time": "2022-10-25T08:56:04.590Z"
   },
   {
    "duration": 5,
    "start_time": "2022-10-25T08:57:28.098Z"
   },
   {
    "duration": 112,
    "start_time": "2022-10-25T08:57:29.367Z"
   },
   {
    "duration": 4,
    "start_time": "2022-10-25T09:30:00.370Z"
   },
   {
    "duration": 11,
    "start_time": "2022-10-25T09:30:02.357Z"
   },
   {
    "duration": 4,
    "start_time": "2022-10-25T09:33:46.496Z"
   },
   {
    "duration": 4,
    "start_time": "2022-10-25T09:33:50.365Z"
   },
   {
    "duration": 4,
    "start_time": "2022-10-25T09:33:51.592Z"
   },
   {
    "duration": 11,
    "start_time": "2022-10-25T09:35:06.491Z"
   },
   {
    "duration": 12,
    "start_time": "2022-10-25T09:35:42.969Z"
   },
   {
    "duration": 4,
    "start_time": "2022-10-25T09:35:44.558Z"
   },
   {
    "duration": 12,
    "start_time": "2022-10-25T09:35:45.688Z"
   },
   {
    "duration": 6,
    "start_time": "2022-10-25T09:35:58.092Z"
   },
   {
    "duration": 8,
    "start_time": "2022-10-25T09:37:50.031Z"
   },
   {
    "duration": 4,
    "start_time": "2022-10-25T09:40:41.765Z"
   },
   {
    "duration": 4,
    "start_time": "2022-10-25T09:40:43.804Z"
   },
   {
    "duration": 9,
    "start_time": "2022-10-25T09:40:54.341Z"
   },
   {
    "duration": 3,
    "start_time": "2022-10-25T09:47:02.066Z"
   },
   {
    "duration": 8,
    "start_time": "2022-10-25T09:47:04.396Z"
   },
   {
    "duration": 4,
    "start_time": "2022-10-25T09:47:12.281Z"
   },
   {
    "duration": 4,
    "start_time": "2022-10-25T09:49:23.489Z"
   },
   {
    "duration": 12,
    "start_time": "2022-10-25T09:49:25.724Z"
   },
   {
    "duration": 4,
    "start_time": "2022-10-25T09:49:44.010Z"
   },
   {
    "duration": 5,
    "start_time": "2022-10-25T09:49:50.088Z"
   },
   {
    "duration": 5,
    "start_time": "2022-10-25T09:50:26.391Z"
   },
   {
    "duration": 8,
    "start_time": "2022-10-25T09:50:28.097Z"
   },
   {
    "duration": 8,
    "start_time": "2022-10-25T09:50:33.411Z"
   },
   {
    "duration": 7,
    "start_time": "2022-10-25T09:51:03.659Z"
   },
   {
    "duration": 9,
    "start_time": "2022-10-25T09:51:29.274Z"
   },
   {
    "duration": 3,
    "start_time": "2022-10-25T09:52:05.634Z"
   },
   {
    "duration": 4,
    "start_time": "2022-10-25T09:52:16.185Z"
   },
   {
    "duration": 5,
    "start_time": "2022-10-25T09:55:15.961Z"
   },
   {
    "duration": 7,
    "start_time": "2022-10-25T09:57:22.327Z"
   },
   {
    "duration": 3,
    "start_time": "2022-10-25T09:57:49.702Z"
   },
   {
    "duration": 6,
    "start_time": "2022-10-25T09:58:26.788Z"
   },
   {
    "duration": 12,
    "start_time": "2022-10-25T09:58:32.114Z"
   },
   {
    "duration": 11,
    "start_time": "2022-10-25T09:58:37.462Z"
   },
   {
    "duration": 11,
    "start_time": "2022-10-25T09:58:50.383Z"
   },
   {
    "duration": 11,
    "start_time": "2022-10-25T09:58:57.715Z"
   },
   {
    "duration": 9,
    "start_time": "2022-10-25T09:59:03.659Z"
   },
   {
    "duration": 12,
    "start_time": "2022-10-25T09:59:11.045Z"
   },
   {
    "duration": 12,
    "start_time": "2022-10-25T09:59:15.353Z"
   },
   {
    "duration": 8,
    "start_time": "2022-10-25T09:59:17.747Z"
   },
   {
    "duration": 5,
    "start_time": "2022-10-25T09:59:25.028Z"
   },
   {
    "duration": 9,
    "start_time": "2022-10-25T09:59:30.786Z"
   },
   {
    "duration": 9,
    "start_time": "2022-10-25T09:59:35.476Z"
   },
   {
    "duration": 70,
    "start_time": "2022-10-25T09:59:48.290Z"
   },
   {
    "duration": 9,
    "start_time": "2022-10-25T09:59:50.796Z"
   },
   {
    "duration": 8,
    "start_time": "2022-10-25T09:59:53.499Z"
   },
   {
    "duration": 9,
    "start_time": "2022-10-25T10:00:42.153Z"
   },
   {
    "duration": 4,
    "start_time": "2022-10-25T10:51:34.943Z"
   },
   {
    "duration": 43,
    "start_time": "2022-10-25T10:51:34.949Z"
   },
   {
    "duration": 13,
    "start_time": "2022-10-25T10:51:34.995Z"
   },
   {
    "duration": 10,
    "start_time": "2022-10-25T10:51:35.010Z"
   },
   {
    "duration": 586,
    "start_time": "2022-10-25T10:51:35.022Z"
   },
   {
    "duration": 15,
    "start_time": "2022-10-25T10:51:35.609Z"
   },
   {
    "duration": 5,
    "start_time": "2022-10-25T10:51:35.626Z"
   },
   {
    "duration": 5,
    "start_time": "2022-10-25T10:51:35.633Z"
   },
   {
    "duration": 15,
    "start_time": "2022-10-25T10:51:35.640Z"
   },
   {
    "duration": 71,
    "start_time": "2022-10-25T10:51:35.656Z"
   },
   {
    "duration": 1270,
    "start_time": "2022-10-25T10:55:42.634Z"
   },
   {
    "duration": 40,
    "start_time": "2022-10-25T10:55:43.907Z"
   },
   {
    "duration": 12,
    "start_time": "2022-10-25T10:55:43.949Z"
   },
   {
    "duration": 8,
    "start_time": "2022-10-25T10:55:43.963Z"
   },
   {
    "duration": 617,
    "start_time": "2022-10-25T10:55:43.973Z"
   },
   {
    "duration": 14,
    "start_time": "2022-10-25T10:55:44.592Z"
   },
   {
    "duration": 6,
    "start_time": "2022-10-25T10:55:44.621Z"
   },
   {
    "duration": 7,
    "start_time": "2022-10-25T10:55:44.628Z"
   },
   {
    "duration": 16,
    "start_time": "2022-10-25T10:55:44.636Z"
   },
   {
    "duration": 11,
    "start_time": "2022-10-25T10:55:44.653Z"
   },
   {
    "duration": 111,
    "start_time": "2022-10-25T10:55:44.724Z"
   },
   {
    "duration": 85,
    "start_time": "2022-10-25T10:55:44.837Z"
   },
   {
    "duration": 7,
    "start_time": "2022-10-25T10:55:44.924Z"
   },
   {
    "duration": 9,
    "start_time": "2022-10-25T10:55:45.024Z"
   },
   {
    "duration": 990,
    "start_time": "2022-10-25T10:56:47.769Z"
   },
   {
    "duration": 3,
    "start_time": "2022-10-25T10:56:54.637Z"
   },
   {
    "duration": 46,
    "start_time": "2022-10-25T10:56:54.642Z"
   },
   {
    "duration": 11,
    "start_time": "2022-10-25T10:56:54.689Z"
   },
   {
    "duration": 10,
    "start_time": "2022-10-25T10:56:54.702Z"
   },
   {
    "duration": 777,
    "start_time": "2022-10-25T10:56:54.713Z"
   },
   {
    "duration": 13,
    "start_time": "2022-10-25T10:56:55.492Z"
   },
   {
    "duration": 16,
    "start_time": "2022-10-25T10:56:55.506Z"
   },
   {
    "duration": 7,
    "start_time": "2022-10-25T10:56:55.524Z"
   },
   {
    "duration": 20,
    "start_time": "2022-10-25T10:56:55.534Z"
   },
   {
    "duration": 19,
    "start_time": "2022-10-25T10:56:55.556Z"
   },
   {
    "duration": 156,
    "start_time": "2022-10-25T10:56:55.576Z"
   },
   {
    "duration": 8,
    "start_time": "2022-10-25T10:56:55.735Z"
   },
   {
    "duration": 82,
    "start_time": "2022-10-25T10:56:55.744Z"
   },
   {
    "duration": 101,
    "start_time": "2022-10-25T10:56:55.828Z"
   },
   {
    "duration": 3,
    "start_time": "2022-10-25T10:57:15.451Z"
   },
   {
    "duration": 9,
    "start_time": "2022-10-25T11:01:07.039Z"
   },
   {
    "duration": 1033,
    "start_time": "2022-10-25T11:02:25.645Z"
   },
   {
    "duration": 41,
    "start_time": "2022-10-25T11:02:26.679Z"
   },
   {
    "duration": 12,
    "start_time": "2022-10-25T11:02:26.722Z"
   },
   {
    "duration": 10,
    "start_time": "2022-10-25T11:02:26.736Z"
   },
   {
    "duration": 870,
    "start_time": "2022-10-25T11:02:26.748Z"
   },
   {
    "duration": 20,
    "start_time": "2022-10-25T11:02:27.621Z"
   },
   {
    "duration": 5,
    "start_time": "2022-10-25T11:02:27.643Z"
   },
   {
    "duration": 9,
    "start_time": "2022-10-25T11:02:27.650Z"
   },
   {
    "duration": 18,
    "start_time": "2022-10-25T11:02:27.661Z"
   },
   {
    "duration": 46,
    "start_time": "2022-10-25T11:02:27.682Z"
   },
   {
    "duration": 107,
    "start_time": "2022-10-25T11:02:27.730Z"
   },
   {
    "duration": 183,
    "start_time": "2022-10-25T11:02:27.839Z"
   },
   {
    "duration": 98,
    "start_time": "2022-10-25T11:02:28.024Z"
   },
   {
    "duration": 10,
    "start_time": "2022-10-25T11:02:28.124Z"
   },
   {
    "duration": 1891,
    "start_time": "2022-10-25T11:22:36.004Z"
   },
   {
    "duration": 187,
    "start_time": "2022-10-25T11:22:37.896Z"
   },
   {
    "duration": 14,
    "start_time": "2022-10-25T11:22:38.085Z"
   },
   {
    "duration": 8,
    "start_time": "2022-10-25T11:22:38.101Z"
   },
   {
    "duration": 1137,
    "start_time": "2022-10-25T11:22:38.111Z"
   },
   {
    "duration": 25,
    "start_time": "2022-10-25T11:22:39.250Z"
   },
   {
    "duration": 5,
    "start_time": "2022-10-25T11:22:39.276Z"
   },
   {
    "duration": 6,
    "start_time": "2022-10-25T11:22:39.284Z"
   },
   {
    "duration": 16,
    "start_time": "2022-10-25T11:22:39.292Z"
   },
   {
    "duration": 50,
    "start_time": "2022-10-25T11:22:39.327Z"
   },
   {
    "duration": 43,
    "start_time": "2022-10-25T11:22:39.425Z"
   },
   {
    "duration": 25,
    "start_time": "2022-10-25T11:22:39.530Z"
   },
   {
    "duration": 22,
    "start_time": "2022-10-25T11:22:39.625Z"
   },
   {
    "duration": 71,
    "start_time": "2022-10-25T11:22:39.660Z"
   },
   {
    "duration": 481,
    "start_time": "2022-10-25T12:14:28.333Z"
   },
   {
    "duration": 543,
    "start_time": "2022-10-25T12:14:41.764Z"
   },
   {
    "duration": 250,
    "start_time": "2022-10-25T12:16:00.096Z"
   },
   {
    "duration": 619,
    "start_time": "2022-10-25T12:16:33.660Z"
   },
   {
    "duration": 399,
    "start_time": "2022-10-25T12:18:13.640Z"
   },
   {
    "duration": 106,
    "start_time": "2022-10-25T12:19:23.550Z"
   },
   {
    "duration": 18,
    "start_time": "2022-10-25T12:19:33.510Z"
   },
   {
    "duration": 527,
    "start_time": "2022-10-25T12:22:00.901Z"
   },
   {
    "duration": 428,
    "start_time": "2022-10-25T12:22:31.536Z"
   },
   {
    "duration": 464,
    "start_time": "2022-10-25T12:22:52.274Z"
   },
   {
    "duration": 361,
    "start_time": "2022-10-25T12:23:30.082Z"
   },
   {
    "duration": 453,
    "start_time": "2022-10-25T12:25:20.600Z"
   },
   {
    "duration": 95,
    "start_time": "2022-10-25T12:28:58.297Z"
   },
   {
    "duration": 16,
    "start_time": "2022-10-25T12:29:12.107Z"
   },
   {
    "duration": 17,
    "start_time": "2022-10-25T12:34:27.844Z"
   },
   {
    "duration": 92,
    "start_time": "2022-10-25T12:45:31.219Z"
   },
   {
    "duration": 71,
    "start_time": "2022-10-25T12:47:49.248Z"
   }
  ],
  "kernelspec": {
   "display_name": "Python 3 (ipykernel)",
   "language": "python",
   "name": "python3"
  },
  "language_info": {
   "codemirror_mode": {
    "name": "ipython",
    "version": 3
   },
   "file_extension": ".py",
   "mimetype": "text/x-python",
   "name": "python",
   "nbconvert_exporter": "python",
   "pygments_lexer": "ipython3",
   "version": "3.9.12"
  },
  "toc": {
   "base_numbering": 1,
   "nav_menu": {},
   "number_sections": true,
   "sideBar": true,
   "skip_h1_title": true,
   "title_cell": "Содержание",
   "title_sidebar": "Contents",
   "toc_cell": true,
   "toc_position": {
    "height": "calc(100% - 180px)",
    "left": "10px",
    "top": "150px",
    "width": "365px"
   },
   "toc_section_display": true,
   "toc_window_display": true
  }
 },
 "nbformat": 4,
 "nbformat_minor": 2
}
