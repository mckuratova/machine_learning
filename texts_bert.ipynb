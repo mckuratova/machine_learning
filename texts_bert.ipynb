{
 "cells": [
  {
   "cell_type": "markdown",
   "metadata": {
    "id": "W9poN-eHz9qU"
   },
   "source": [
    "# Проект для «Викишоп» с BERT"
   ]
  },
  {
   "cell_type": "markdown",
   "metadata": {
    "id": "xQZ5_nyi0IKn"
   },
   "source": [
    "Интернет-магазин «Викишоп» запускает новый сервис. Теперь пользователи могут редактировать и дополнять описания товаров, как в вики-сообществах. То есть клиенты предлагают свои правки и комментируют изменения других. Магазину нужен инструмент, который будет искать токсичные комментарии и отправлять их на модерацию. \n",
    "Задача: обучить модель классифицировать комментарии на позитивные и негативные. Имеется набор данных с разметкой о токсичности правок. Необходимо построить модель со значением метрики качества F1 не меньше 0.75."
   ]
  },
  {
   "cell_type": "markdown",
   "metadata": {
    "toc": true
   },
   "source": [
    "<h1>Содержание<span class=\"tocSkip\"></span></h1>\n",
    "<div class=\"toc\"><ul class=\"toc-item\"><li><span><a href=\"#Получение-данных\" data-toc-modified-id=\"Получение-данных-1\"><span class=\"toc-item-num\">1&nbsp;&nbsp;</span>Получение данных</a></span><ul class=\"toc-item\"><li><span><a href=\"#Импорт-библиотек\" data-toc-modified-id=\"Импорт-библиотек-1.1\"><span class=\"toc-item-num\">1.1&nbsp;&nbsp;</span>Импорт библиотек</a></span></li><li><span><a href=\"#Чтение-данных-и-знакомство-с-ними\" data-toc-modified-id=\"Чтение-данных-и-знакомство-с-ними-1.2\"><span class=\"toc-item-num\">1.2&nbsp;&nbsp;</span>Чтение данных и знакомство с ними</a></span></li><li><span><a href=\"#Определение-стоп-слов\" data-toc-modified-id=\"Определение-стоп-слов-1.3\"><span class=\"toc-item-num\">1.3&nbsp;&nbsp;</span>Определение стоп-слов</a></span></li><li><span><a href=\"#Предварительная-обработка-текста\" data-toc-modified-id=\"Предварительная-обработка-текста-1.4\"><span class=\"toc-item-num\">1.4&nbsp;&nbsp;</span>Предварительная обработка текста</a></span></li></ul></li><li><span><a href=\"#Подготовка-данных-для-модели-Bert\" data-toc-modified-id=\"Подготовка-данных-для-модели-Bert-2\"><span class=\"toc-item-num\">2&nbsp;&nbsp;</span>Подготовка данных для модели Bert</a></span></li><li><span><a href=\"#Обучение\" data-toc-modified-id=\"Обучение-3\"><span class=\"toc-item-num\">3&nbsp;&nbsp;</span>Обучение</a></span></li><li><span><a href=\"#Функция-оценки-F1\" data-toc-modified-id=\"Функция-оценки-F1-4\"><span class=\"toc-item-num\">4&nbsp;&nbsp;</span>Функция оценки F1</a></span></li><li><span><a href=\"#Логистическая-регрессия\" data-toc-modified-id=\"Логистическая-регрессия-5\"><span class=\"toc-item-num\">5&nbsp;&nbsp;</span>Логистическая регрессия</a></span></li><li><span><a href=\"#Случайный-лес\" data-toc-modified-id=\"Случайный-лес-6\"><span class=\"toc-item-num\">6&nbsp;&nbsp;</span>Случайный лес</a></span></li><li><span><a href=\"#Бустинг\" data-toc-modified-id=\"Бустинг-7\"><span class=\"toc-item-num\">7&nbsp;&nbsp;</span>Бустинг</a></span></li><li><span><a href=\"#Сравнение-моделей\" data-toc-modified-id=\"Сравнение-моделей-8\"><span class=\"toc-item-num\">8&nbsp;&nbsp;</span>Сравнение моделей</a></span></li><li><span><a href=\"#Тестирование\" data-toc-modified-id=\"Тестирование-9\"><span class=\"toc-item-num\">9&nbsp;&nbsp;</span>Тестирование</a></span></li></ul></div>"
   ]
  },
  {
   "cell_type": "markdown",
   "metadata": {
    "id": "4MFI3-TP0cZD"
   },
   "source": [
    "## Получение данных"
   ]
  },
  {
   "cell_type": "markdown",
   "metadata": {},
   "source": [
    "### Импорт библиотек"
   ]
  },
  {
   "cell_type": "code",
   "execution_count": 1,
   "metadata": {
    "colab": {
     "base_uri": "https://localhost:8080/"
    },
    "id": "NPTlpdIt3uyi",
    "outputId": "ea06e91a-ebfc-4661-99a8-e701c26468fa"
   },
   "outputs": [
    {
     "name": "stderr",
     "output_type": "stream",
     "text": [
      "[nltk_data] Downloading package wordnet to\n",
      "[nltk_data]     C:\\Users\\maria\\AppData\\Roaming\\nltk_data...\n",
      "[nltk_data]   Package wordnet is already up-to-date!\n",
      "[nltk_data] Downloading package punkt to\n",
      "[nltk_data]     C:\\Users\\maria\\AppData\\Roaming\\nltk_data...\n",
      "[nltk_data]   Package punkt is already up-to-date!\n",
      "[nltk_data] Downloading package omw-1.4 to\n",
      "[nltk_data]     C:\\Users\\maria\\AppData\\Roaming\\nltk_data...\n",
      "[nltk_data]   Package omw-1.4 is already up-to-date!\n",
      "[nltk_data] Downloading package stopwords to\n",
      "[nltk_data]     C:\\Users\\maria\\AppData\\Roaming\\nltk_data...\n",
      "[nltk_data]   Package stopwords is already up-to-date!\n"
     ]
    }
   ],
   "source": [
    "import numpy as np\n",
    "import pandas as pd\n",
    "import matplotlib.pyplot as plt\n",
    "#!pip install transformers\n",
    "import transformers\n",
    "from transformers import AutoTokenizer, AutoModel\n",
    "\n",
    "import nltk\n",
    "from nltk.stem import WordNetLemmatizer\n",
    "nltk.download('wordnet')\n",
    "nltk.download('punkt')\n",
    "nltk.download('omw-1.4')\n",
    "nltk.download('stopwords')\n",
    "from nltk.corpus import stopwords\n",
    "import re\n",
    "\n",
    "import torch\n",
    "\n",
    "from tqdm import notebook\n",
    "from sklearn.linear_model import LogisticRegression\n",
    "from sklearn.ensemble import RandomForestClassifier\n",
    "from lightgbm import LGBMClassifier\n",
    "\n",
    "from sklearn.model_selection import GridSearchCV\n",
    "from sklearn.metrics import make_scorer\n",
    "\n",
    "from sklearn.model_selection import train_test_split\n",
    "\n",
    "from sklearn.metrics import f1_score"
   ]
  },
  {
   "cell_type": "markdown",
   "metadata": {},
   "source": [
    "### Чтение данных и знакомство с ними"
   ]
  },
  {
   "cell_type": "code",
   "execution_count": 2,
   "metadata": {
    "id": "57RYUWHc5A8L"
   },
   "outputs": [],
   "source": [
    "df = pd.read_csv('https://code.s3.yandex.net/datasets/toxic_comments.csv')"
   ]
  },
  {
   "cell_type": "markdown",
   "metadata": {},
   "source": [
    "Отобразим первые 5 строк датафрейма."
   ]
  },
  {
   "cell_type": "code",
   "execution_count": 3,
   "metadata": {
    "colab": {
     "base_uri": "https://localhost:8080/",
     "height": 206
    },
    "id": "0suIVexB5ahz",
    "outputId": "eb58621e-c75f-4746-ce72-43dc6c7345f9"
   },
   "outputs": [
    {
     "data": {
      "text/html": [
       "<div>\n",
       "<style scoped>\n",
       "    .dataframe tbody tr th:only-of-type {\n",
       "        vertical-align: middle;\n",
       "    }\n",
       "\n",
       "    .dataframe tbody tr th {\n",
       "        vertical-align: top;\n",
       "    }\n",
       "\n",
       "    .dataframe thead th {\n",
       "        text-align: right;\n",
       "    }\n",
       "</style>\n",
       "<table border=\"1\" class=\"dataframe\">\n",
       "  <thead>\n",
       "    <tr style=\"text-align: right;\">\n",
       "      <th></th>\n",
       "      <th>Unnamed: 0</th>\n",
       "      <th>text</th>\n",
       "      <th>toxic</th>\n",
       "    </tr>\n",
       "  </thead>\n",
       "  <tbody>\n",
       "    <tr>\n",
       "      <th>0</th>\n",
       "      <td>0</td>\n",
       "      <td>Explanation\\nWhy the edits made under my usern...</td>\n",
       "      <td>0</td>\n",
       "    </tr>\n",
       "    <tr>\n",
       "      <th>1</th>\n",
       "      <td>1</td>\n",
       "      <td>D'aww! He matches this background colour I'm s...</td>\n",
       "      <td>0</td>\n",
       "    </tr>\n",
       "    <tr>\n",
       "      <th>2</th>\n",
       "      <td>2</td>\n",
       "      <td>Hey man, I'm really not trying to edit war. It...</td>\n",
       "      <td>0</td>\n",
       "    </tr>\n",
       "    <tr>\n",
       "      <th>3</th>\n",
       "      <td>3</td>\n",
       "      <td>\"\\nMore\\nI can't make any real suggestions on ...</td>\n",
       "      <td>0</td>\n",
       "    </tr>\n",
       "    <tr>\n",
       "      <th>4</th>\n",
       "      <td>4</td>\n",
       "      <td>You, sir, are my hero. Any chance you remember...</td>\n",
       "      <td>0</td>\n",
       "    </tr>\n",
       "  </tbody>\n",
       "</table>\n",
       "</div>"
      ],
      "text/plain": [
       "   Unnamed: 0                                               text  toxic\n",
       "0           0  Explanation\\nWhy the edits made under my usern...      0\n",
       "1           1  D'aww! He matches this background colour I'm s...      0\n",
       "2           2  Hey man, I'm really not trying to edit war. It...      0\n",
       "3           3  \"\\nMore\\nI can't make any real suggestions on ...      0\n",
       "4           4  You, sir, are my hero. Any chance you remember...      0"
      ]
     },
     "execution_count": 3,
     "metadata": {},
     "output_type": "execute_result"
    }
   ],
   "source": [
    "df.head()"
   ]
  },
  {
   "cell_type": "markdown",
   "metadata": {},
   "source": [
    "Отобразим общую инфомрацию о данных."
   ]
  },
  {
   "cell_type": "code",
   "execution_count": 4,
   "metadata": {
    "colab": {
     "base_uri": "https://localhost:8080/"
    },
    "id": "yOQuNjuV7Cub",
    "outputId": "0eaaeca1-2174-4cd3-8409-c9aecd578590"
   },
   "outputs": [
    {
     "name": "stdout",
     "output_type": "stream",
     "text": [
      "<class 'pandas.core.frame.DataFrame'>\n",
      "RangeIndex: 159292 entries, 0 to 159291\n",
      "Data columns (total 3 columns):\n",
      " #   Column      Non-Null Count   Dtype \n",
      "---  ------      --------------   ----- \n",
      " 0   Unnamed: 0  159292 non-null  int64 \n",
      " 1   text        159292 non-null  object\n",
      " 2   toxic       159292 non-null  int64 \n",
      "dtypes: int64(2), object(1)\n",
      "memory usage: 3.6+ MB\n"
     ]
    }
   ],
   "source": [
    "df.info()"
   ]
  },
  {
   "cell_type": "markdown",
   "metadata": {
    "id": "vq69KGnB--oR"
   },
   "source": [
    "Мы получили таблицу данных с текстами комментариев и признаком токсичности (0 или 1). В таблице 159292 строк без пропусков. Комментарии написаны на английском языке. Посмотрим соотношение токсичных и нетоксичных слов в исходной таблице. "
   ]
  },
  {
   "cell_type": "code",
   "execution_count": 5,
   "metadata": {
    "colab": {
     "base_uri": "https://localhost:8080/",
     "height": 292
    },
    "id": "nB0Pj3vD4Uy6",
    "outputId": "b48a93ad-0171-42f7-cd15-3af9250fc083"
   },
   "outputs": [
    {
     "data": {
      "image/png": "[encoded data removed]",
      "text/plain": [
       "<Figure size 432x288 with 1 Axes>"
      ]
     },
     "metadata": {
      "needs_background": "light"
     },
     "output_type": "display_data"
    }
   ],
   "source": [
    "percent = round(df.query('toxic == 1').toxic.count() / df.shape[0] * 100)\n",
    "df.groupby('toxic').toxic.count().plot.bar()\n",
    "plt.title(f'Процент токсичных слов в оригинальной выборке {percent} %')\n",
    "plt.ylabel('Число слов')\n",
    "plt.xlabel('Токсичность')\n",
    "plt.grid(True)\n",
    "plt.show()"
   ]
  },
  {
   "cell_type": "markdown",
   "metadata": {
    "id": "UgvtL3Cq_i8s"
   },
   "source": [
    "Для удобства вычислений возьмем небольшую выборку из таблицы, проверив, что соотношение токсичных и нетоксичных слов не изменится."
   ]
  },
  {
   "cell_type": "code",
   "execution_count": 6,
   "metadata": {
    "id": "7b8Cu90e5SjU"
   },
   "outputs": [],
   "source": [
    "df = df.sample(1000, random_state = 12345).reset_index(drop=True)"
   ]
  },
  {
   "cell_type": "code",
   "execution_count": 7,
   "metadata": {
    "colab": {
     "base_uri": "https://localhost:8080/",
     "height": 292
    },
    "id": "F7CzS2tl-lED",
    "outputId": "3785d57b-8208-4fc2-ac10-19f5bfc4d136"
   },
   "outputs": [
    {
     "data": {
      "image/png": "[encoded data removed]",
      "text/plain": [
       "<Figure size 432x288 with 1 Axes>"
      ]
     },
     "metadata": {
      "needs_background": "light"
     },
     "output_type": "display_data"
    }
   ],
   "source": [
    "percent = round(df.query('toxic == 1').toxic.count() / df.shape[0] * 100)\n",
    "df.groupby('toxic').toxic.count().plot.bar()\n",
    "plt.title(f'Процент токсичных слов в уменьшенной выборке {percent} %')\n",
    "plt.ylabel('Число слов')\n",
    "plt.xlabel('Токсичность')\n",
    "plt.grid(True)\n",
    "plt.show()"
   ]
  },
  {
   "cell_type": "markdown",
   "metadata": {
    "id": "og2HpnoLACcd"
   },
   "source": [
    "Как видно на графике, распределение слов практически не изменилось. Для дальнешего исследования будем использовать эту уменьшенную выборку."
   ]
  },
  {
   "cell_type": "markdown",
   "metadata": {},
   "source": [
    "### Определение стоп-слов"
   ]
  },
  {
   "cell_type": "code",
   "execution_count": 8,
   "metadata": {},
   "outputs": [],
   "source": [
    "# список стоп-слов\n",
    "stop_words = set(stopwords.words('english'))"
   ]
  },
  {
   "cell_type": "markdown",
   "metadata": {
    "id": "rxn2pEenIqo6"
   },
   "source": [
    "## Подготовка данных для модели Bert"
   ]
  },
  {
   "cell_type": "markdown",
   "metadata": {
    "id": "CPdZCGkiAQX1"
   },
   "source": [
    "В проекте используется модель Detoxify, обученная специально для предсказания токсичных слов."
   ]
  },
  {
   "cell_type": "code",
   "execution_count": 9,
   "metadata": {
    "id": "iMJth0tJ5f_7"
   },
   "outputs": [],
   "source": [
    "# подгружаем предобученную модель токенизатора\n",
    "\n",
    "model_id = 'unitary/toxic-bert'\n",
    "tokenizer = AutoTokenizer.from_pretrained(model_id)"
   ]
  },
  {
   "cell_type": "code",
   "execution_count": 10,
   "metadata": {
    "id": "XE1Dxwt95pNb"
   },
   "outputs": [],
   "source": [
    "tokenized = df['text'].apply(lambda x: tokenizer.encode(x, add_special_tokens=True, truncation=True))\n",
    "\n",
    "max_len = len(max(tokenized, key=len))\n",
    "\n",
    "padded = np.array([i + [0]*(max_len - len(i)) for i in tokenized.values])\n",
    "\n",
    "attention_mask = np.where(padded != 0, 1, 0)"
   ]
  },
  {
   "cell_type": "code",
   "execution_count": 11,
   "metadata": {
    "colab": {
     "base_uri": "https://localhost:8080/"
    },
    "id": "V6FruSI6xI_Q",
    "outputId": "f3cf3bf8-735f-44ed-b70c-131ac76eabae"
   },
   "outputs": [
    {
     "name": "stderr",
     "output_type": "stream",
     "text": [
      "Some weights of the model checkpoint at unitary/toxic-bert were not used when initializing BertModel: ['classifier.bias', 'classifier.weight']\n",
      "- This IS expected if you are initializing BertModel from the checkpoint of a model trained on another task or with another architecture (e.g. initializing a BertForSequenceClassification model from a BertForPreTraining model).\n",
      "- This IS NOT expected if you are initializing BertModel from the checkpoint of a model that you expect to be exactly identical (initializing a BertForSequenceClassification model from a BertForSequenceClassification model).\n"
     ]
    }
   ],
   "source": [
    "model = AutoModel.from_pretrained(model_id)"
   ]
  },
  {
   "cell_type": "code",
   "execution_count": 12,
   "metadata": {
    "colab": {
     "base_uri": "https://localhost:8080/",
     "height": 49,
     "referenced_widgets": [
      "4a78dd4954d04eb9ae3b523ab0db6b15",
      "045df75a66964ec0b218692fc1f70e8f",
      "b9e994e020fe4c518fb2ac69215073f7",
      "e5a3a2a8a88a4b47b77245b0ee6681bd",
      "5e2bfea87598433dba2f7ba6309782d8",
      "53e6a6372369486a9da159d262d80bd0",
      "d8880da85d014bf3b8214dc47e2c39f2",
      "62a82485da28495fb7da1d66f9d8b0c5",
      "3aa5259397e2489a9850da90434eb270",
      "bad9adadcff246fa81a3edc5f4bdaa2d",
      "90ec1baf7ef9468e8a0464df4b4c0748"
     ]
    },
    "id": "NJZkGvvMxOjQ",
    "outputId": "2d5e2b84-991f-41fe-8168-91f2dc48c3b8"
   },
   "outputs": [
    {
     "data": {
      "application/vnd.jupyter.widget-view+json": {
       "model_id": "d6f2352896b041ff892054b84c28a1a4",
       "version_major": 2,
       "version_minor": 0
      },
      "text/plain": [
       "  0%|          | 0/10 [00:00<?, ?it/s]"
      ]
     },
     "metadata": {},
     "output_type": "display_data"
    }
   ],
   "source": [
    "batch_size = 100\n",
    "embeddings = []\n",
    "\n",
    "for i in notebook.tqdm(range(padded.shape[0] // batch_size)):\n",
    "    batch = torch.LongTensor(padded[batch_size*i:batch_size*(i+1)]) \n",
    "    attention_mask_batch = torch.LongTensor(attention_mask[batch_size*i:batch_size*(i+1)])\n",
    "\n",
    "    with torch.no_grad():\n",
    "        batch_embeddings = model(batch, attention_mask=attention_mask_batch)\n",
    "    embeddings.append(batch_embeddings[0][:,0,:].numpy())"
   ]
  },
  {
   "cell_type": "markdown",
   "metadata": {
    "id": "F8LXDY5WJCEK"
   },
   "source": [
    "## Обучение"
   ]
  },
  {
   "cell_type": "markdown",
   "metadata": {},
   "source": [
    "Обучающие признаки-эмбеддинги."
   ]
  },
  {
   "cell_type": "code",
   "execution_count": 13,
   "metadata": {
    "id": "j1Ifvv1CxZeu"
   },
   "outputs": [],
   "source": [
    "features = np.concatenate(embeddings)"
   ]
  },
  {
   "cell_type": "markdown",
   "metadata": {},
   "source": [
    "Целевой признак."
   ]
  },
  {
   "cell_type": "code",
   "execution_count": 14,
   "metadata": {
    "id": "sMdSfoiZyFhw"
   },
   "outputs": [],
   "source": [
    "target = df['toxic']\n",
    "target = target.loc[tokenized.index]"
   ]
  },
  {
   "cell_type": "markdown",
   "metadata": {},
   "source": [
    "Разделяем на обучающую и тестовую выборку и проверяем размерность получившихся выборок."
   ]
  },
  {
   "cell_type": "code",
   "execution_count": 15,
   "metadata": {
    "colab": {
     "base_uri": "https://localhost:8080/"
    },
    "id": "2gjU6T57yj32",
    "outputId": "9cea434d-d292-43cd-9e5f-ed3137b6b92a"
   },
   "outputs": [
    {
     "name": "stdout",
     "output_type": "stream",
     "text": [
      "Размерность обучающей выборки - обучающие признаки x_train (800, 768)\n",
      "Размерность тестовой выборки - обучающие признаки x_test (200, 768)\n",
      "Размерность обучающей выборки - целевой признак y_train (800,)\n",
      "Размерность обучающей выборки - целевой признак y_test (200,)\n"
     ]
    }
   ],
   "source": [
    "x_train, x_test, y_train, y_test = train_test_split(features, target, test_size=0.2, random_state=12345)\n",
    "\n",
    "print('Размерность обучающей выборки - обучающие признаки x_train', x_train.shape)\n",
    "print('Размерность тестовой выборки - обучающие признаки x_test', x_test.shape)\n",
    "print('Размерность обучающей выборки - целевой признак y_train', y_train.shape)\n",
    "print('Размерность обучающей выборки - целевой признак y_test', y_test.shape)"
   ]
  },
  {
   "cell_type": "markdown",
   "metadata": {
    "id": "OK7maOFlQds5"
   },
   "source": [
    "## Функция оценки F1"
   ]
  },
  {
   "cell_type": "markdown",
   "metadata": {},
   "source": [
    "Определям функцию оценки моделей - f1."
   ]
  },
  {
   "cell_type": "code",
   "execution_count": 16,
   "metadata": {
    "id": "FkQkZ68zKyWp"
   },
   "outputs": [],
   "source": [
    "def score_func(y_true, y_pred):\n",
    "    score = f1_score(y_true, y_pred)\n",
    "    return score\n",
    "\n",
    "scorer = make_scorer(score_func)"
   ]
  },
  {
   "cell_type": "markdown",
   "metadata": {
    "id": "TUupirBRJK-I"
   },
   "source": [
    "## Логистическая регрессия"
   ]
  },
  {
   "cell_type": "code",
   "execution_count": 17,
   "metadata": {
    "id": "LqJfyY5dNwdW"
   },
   "outputs": [],
   "source": [
    "grid_lr = {\n",
    "    'solver': ['lbfgs', 'liblinear', 'saga'],\n",
    "    'C': [0.001, 0.01, 0.1, 1, 10, 100, 1000]\n",
    "}"
   ]
  },
  {
   "cell_type": "code",
   "execution_count": 18,
   "metadata": {
    "colab": {
     "base_uri": "https://localhost:8080/"
    },
    "id": "ffWR5mT9ymh1",
    "outputId": "8b784f6a-a8d1-4b17-d53e-b9bc6faa1a1a"
   },
   "outputs": [
    {
     "name": "stdout",
     "output_type": "stream",
     "text": [
      "Fitting 5 folds for each of 21 candidates, totalling 105 fits\n",
      "[CV 1/5; 1/21] START C=0.001, solver=lbfgs......................................\n",
      "[CV 1/5; 1/21] END .......C=0.001, solver=lbfgs;, score=0.903 total time=   0.3s\n",
      "[CV 2/5; 1/21] START C=0.001, solver=lbfgs......................................\n",
      "[CV 2/5; 1/21] END .......C=0.001, solver=lbfgs;, score=0.909 total time=   0.0s\n",
      "[CV 3/5; 1/21] START C=0.001, solver=lbfgs......................................\n",
      "[CV 3/5; 1/21] END .......C=0.001, solver=lbfgs;, score=0.882 total time=   0.0s\n",
      "[CV 4/5; 1/21] START C=0.001, solver=lbfgs......................................\n",
      "[CV 4/5; 1/21] END .......C=0.001, solver=lbfgs;, score=0.813 total time=   0.0s\n",
      "[CV 5/5; 1/21] START C=0.001, solver=lbfgs......................................\n",
      "[CV 5/5; 1/21] END .......C=0.001, solver=lbfgs;, score=0.914 total time=   0.0s\n",
      "[CV 1/5; 2/21] START C=0.001, solver=liblinear..................................\n",
      "[CV 1/5; 2/21] END ...C=0.001, solver=liblinear;, score=0.903 total time=   0.0s\n",
      "[CV 2/5; 2/21] START C=0.001, solver=liblinear..................................\n",
      "[CV 2/5; 2/21] END ...C=0.001, solver=liblinear;, score=0.941 total time=   0.0s\n",
      "[CV 3/5; 2/21] START C=0.001, solver=liblinear..................................\n",
      "[CV 3/5; 2/21] END ...C=0.001, solver=liblinear;, score=0.882 total time=   0.0s\n",
      "[CV 4/5; 2/21] START C=0.001, solver=liblinear..................................\n",
      "[CV 4/5; 2/21] END ...C=0.001, solver=liblinear;, score=0.813 total time=   0.0s\n",
      "[CV 5/5; 2/21] START C=0.001, solver=liblinear..................................\n",
      "[CV 5/5; 2/21] END ...C=0.001, solver=liblinear;, score=0.914 total time=   0.0s\n",
      "[CV 1/5; 3/21] START C=0.001, solver=saga.......................................\n"
     ]
    },
    {
     "name": "stderr",
     "output_type": "stream",
     "text": [
      "C:\\Users\\maria\\anaconda3\\lib\\site-packages\\sklearn\\linear_model\\_sag.py:352: ConvergenceWarning: The max_iter was reached which means the coef_ did not converge\n",
      "  warnings.warn(\n"
     ]
    },
    {
     "name": "stdout",
     "output_type": "stream",
     "text": [
      "[CV 1/5; 3/21] END ........C=0.001, solver=saga;, score=0.903 total time=   0.8s\n",
      "[CV 2/5; 3/21] START C=0.001, solver=saga.......................................\n"
     ]
    },
    {
     "name": "stderr",
     "output_type": "stream",
     "text": [
      "C:\\Users\\maria\\anaconda3\\lib\\site-packages\\sklearn\\linear_model\\_sag.py:352: ConvergenceWarning: The max_iter was reached which means the coef_ did not converge\n",
      "  warnings.warn(\n"
     ]
    },
    {
     "name": "stdout",
     "output_type": "stream",
     "text": [
      "[CV 2/5; 3/21] END ........C=0.001, solver=saga;, score=0.909 total time=   0.8s\n",
      "[CV 3/5; 3/21] START C=0.001, solver=saga.......................................\n"
     ]
    },
    {
     "name": "stderr",
     "output_type": "stream",
     "text": [
      "C:\\Users\\maria\\anaconda3\\lib\\site-packages\\sklearn\\linear_model\\_sag.py:352: ConvergenceWarning: The max_iter was reached which means the coef_ did not converge\n",
      "  warnings.warn(\n"
     ]
    },
    {
     "name": "stdout",
     "output_type": "stream",
     "text": [
      "[CV 3/5; 3/21] END ........C=0.001, solver=saga;, score=0.882 total time=   0.8s\n",
      "[CV 4/5; 3/21] START C=0.001, solver=saga.......................................\n"
     ]
    },
    {
     "name": "stderr",
     "output_type": "stream",
     "text": [
      "C:\\Users\\maria\\anaconda3\\lib\\site-packages\\sklearn\\linear_model\\_sag.py:352: ConvergenceWarning: The max_iter was reached which means the coef_ did not converge\n",
      "  warnings.warn(\n"
     ]
    },
    {
     "name": "stdout",
     "output_type": "stream",
     "text": [
      "[CV 4/5; 3/21] END ........C=0.001, solver=saga;, score=0.813 total time=   0.8s\n",
      "[CV 5/5; 3/21] START C=0.001, solver=saga.......................................\n"
     ]
    },
    {
     "name": "stderr",
     "output_type": "stream",
     "text": [
      "C:\\Users\\maria\\anaconda3\\lib\\site-packages\\sklearn\\linear_model\\_sag.py:352: ConvergenceWarning: The max_iter was reached which means the coef_ did not converge\n",
      "  warnings.warn(\n"
     ]
    },
    {
     "name": "stdout",
     "output_type": "stream",
     "text": [
      "[CV 5/5; 3/21] END ........C=0.001, solver=saga;, score=0.914 total time=   0.8s\n",
      "[CV 1/5; 4/21] START C=0.01, solver=lbfgs.......................................\n",
      "[CV 1/5; 4/21] END ........C=0.01, solver=lbfgs;, score=0.970 total time=   0.0s\n",
      "[CV 2/5; 4/21] START C=0.01, solver=lbfgs.......................................\n",
      "[CV 2/5; 4/21] END ........C=0.01, solver=lbfgs;, score=0.914 total time=   0.0s\n",
      "[CV 3/5; 4/21] START C=0.01, solver=lbfgs.......................................\n",
      "[CV 3/5; 4/21] END ........C=0.01, solver=lbfgs;, score=0.944 total time=   0.0s\n",
      "[CV 4/5; 4/21] START C=0.01, solver=lbfgs.......................................\n",
      "[CV 4/5; 4/21] END ........C=0.01, solver=lbfgs;, score=0.882 total time=   0.0s\n",
      "[CV 5/5; 4/21] START C=0.01, solver=lbfgs.......................................\n",
      "[CV 5/5; 4/21] END ........C=0.01, solver=lbfgs;, score=0.889 total time=   0.0s\n",
      "[CV 1/5; 5/21] START C=0.01, solver=liblinear...................................\n",
      "[CV 1/5; 5/21] END ....C=0.01, solver=liblinear;, score=0.941 total time=   0.0s\n",
      "[CV 2/5; 5/21] START C=0.01, solver=liblinear...................................\n",
      "[CV 2/5; 5/21] END ....C=0.01, solver=liblinear;, score=0.914 total time=   0.0s\n",
      "[CV 3/5; 5/21] START C=0.01, solver=liblinear...................................\n",
      "[CV 3/5; 5/21] END ....C=0.01, solver=liblinear;, score=0.944 total time=   0.0s\n",
      "[CV 4/5; 5/21] START C=0.01, solver=liblinear...................................\n",
      "[CV 4/5; 5/21] END ....C=0.01, solver=liblinear;, score=0.882 total time=   0.0s\n",
      "[CV 5/5; 5/21] START C=0.01, solver=liblinear...................................\n",
      "[CV 5/5; 5/21] END ....C=0.01, solver=liblinear;, score=0.889 total time=   0.0s\n",
      "[CV 1/5; 6/21] START C=0.01, solver=saga........................................\n"
     ]
    },
    {
     "name": "stderr",
     "output_type": "stream",
     "text": [
      "C:\\Users\\maria\\anaconda3\\lib\\site-packages\\sklearn\\linear_model\\_sag.py:352: ConvergenceWarning: The max_iter was reached which means the coef_ did not converge\n",
      "  warnings.warn(\n"
     ]
    },
    {
     "name": "stdout",
     "output_type": "stream",
     "text": [
      "[CV 1/5; 6/21] END .........C=0.01, solver=saga;, score=0.941 total time=   0.7s\n",
      "[CV 2/5; 6/21] START C=0.01, solver=saga........................................\n"
     ]
    },
    {
     "name": "stderr",
     "output_type": "stream",
     "text": [
      "C:\\Users\\maria\\anaconda3\\lib\\site-packages\\sklearn\\linear_model\\_sag.py:352: ConvergenceWarning: The max_iter was reached which means the coef_ did not converge\n",
      "  warnings.warn(\n"
     ]
    },
    {
     "name": "stdout",
     "output_type": "stream",
     "text": [
      "[CV 2/5; 6/21] END .........C=0.01, solver=saga;, score=0.914 total time=   0.7s\n",
      "[CV 3/5; 6/21] START C=0.01, solver=saga........................................\n"
     ]
    },
    {
     "name": "stderr",
     "output_type": "stream",
     "text": [
      "C:\\Users\\maria\\anaconda3\\lib\\site-packages\\sklearn\\linear_model\\_sag.py:352: ConvergenceWarning: The max_iter was reached which means the coef_ did not converge\n",
      "  warnings.warn(\n"
     ]
    },
    {
     "name": "stdout",
     "output_type": "stream",
     "text": [
      "[CV 3/5; 6/21] END .........C=0.01, solver=saga;, score=0.944 total time=   0.7s\n",
      "[CV 4/5; 6/21] START C=0.01, solver=saga........................................\n"
     ]
    },
    {
     "name": "stderr",
     "output_type": "stream",
     "text": [
      "C:\\Users\\maria\\anaconda3\\lib\\site-packages\\sklearn\\linear_model\\_sag.py:352: ConvergenceWarning: The max_iter was reached which means the coef_ did not converge\n",
      "  warnings.warn(\n"
     ]
    },
    {
     "name": "stdout",
     "output_type": "stream",
     "text": [
      "[CV 4/5; 6/21] END .........C=0.01, solver=saga;, score=0.882 total time=   0.8s\n",
      "[CV 5/5; 6/21] START C=0.01, solver=saga........................................\n",
      "[CV 5/5; 6/21] END .........C=0.01, solver=saga;, score=0.889 total time=   0.1s\n",
      "[CV 1/5; 7/21] START C=0.1, solver=lbfgs........................................\n",
      "[CV 1/5; 7/21] END .........C=0.1, solver=lbfgs;, score=0.941 total time=   0.0s\n",
      "[CV 2/5; 7/21] START C=0.1, solver=lbfgs........................................\n",
      "[CV 2/5; 7/21] END .........C=0.1, solver=lbfgs;, score=0.941 total time=   0.0s\n",
      "[CV 3/5; 7/21] START C=0.1, solver=lbfgs........................................\n",
      "[CV 3/5; 7/21] END .........C=0.1, solver=lbfgs;, score=0.973 total time=   0.0s\n",
      "[CV 4/5; 7/21] START C=0.1, solver=lbfgs........................................\n",
      "[CV 4/5; 7/21] END .........C=0.1, solver=lbfgs;, score=0.882 total time=   0.0s\n",
      "[CV 5/5; 7/21] START C=0.1, solver=lbfgs........................................\n",
      "[CV 5/5; 7/21] END .........C=0.1, solver=lbfgs;, score=0.889 total time=   0.0s\n",
      "[CV 1/5; 8/21] START C=0.1, solver=liblinear....................................\n",
      "[CV 1/5; 8/21] END .....C=0.1, solver=liblinear;, score=0.941 total time=   0.0s\n",
      "[CV 2/5; 8/21] START C=0.1, solver=liblinear....................................\n",
      "[CV 2/5; 8/21] END .....C=0.1, solver=liblinear;, score=0.941 total time=   0.0s\n",
      "[CV 3/5; 8/21] START C=0.1, solver=liblinear....................................\n",
      "[CV 3/5; 8/21] END .....C=0.1, solver=liblinear;, score=0.973 total time=   0.0s\n",
      "[CV 4/5; 8/21] START C=0.1, solver=liblinear....................................\n",
      "[CV 4/5; 8/21] END .....C=0.1, solver=liblinear;, score=0.882 total time=   0.0s\n",
      "[CV 5/5; 8/21] START C=0.1, solver=liblinear....................................\n",
      "[CV 5/5; 8/21] END .....C=0.1, solver=liblinear;, score=0.889 total time=   0.0s\n",
      "[CV 1/5; 9/21] START C=0.1, solver=saga.........................................\n",
      "[CV 1/5; 9/21] END ..........C=0.1, solver=saga;, score=0.941 total time=   0.6s\n",
      "[CV 2/5; 9/21] START C=0.1, solver=saga.........................................\n",
      "[CV 2/5; 9/21] END ..........C=0.1, solver=saga;, score=0.941 total time=   0.6s\n",
      "[CV 3/5; 9/21] START C=0.1, solver=saga.........................................\n",
      "[CV 3/5; 9/21] END ..........C=0.1, solver=saga;, score=0.973 total time=   0.6s\n",
      "[CV 4/5; 9/21] START C=0.1, solver=saga.........................................\n",
      "[CV 4/5; 9/21] END ..........C=0.1, solver=saga;, score=0.882 total time=   0.6s\n",
      "[CV 5/5; 9/21] START C=0.1, solver=saga.........................................\n",
      "[CV 5/5; 9/21] END ..........C=0.1, solver=saga;, score=0.889 total time=   0.6s\n",
      "[CV 1/5; 10/21] START C=1, solver=lbfgs.........................................\n",
      "[CV 1/5; 10/21] END ..........C=1, solver=lbfgs;, score=0.941 total time=   0.0s\n",
      "[CV 2/5; 10/21] START C=1, solver=lbfgs.........................................\n",
      "[CV 2/5; 10/21] END ..........C=1, solver=lbfgs;, score=0.941 total time=   0.0s\n",
      "[CV 3/5; 10/21] START C=1, solver=lbfgs.........................................\n"
     ]
    },
    {
     "name": "stderr",
     "output_type": "stream",
     "text": [
      "C:\\Users\\maria\\anaconda3\\lib\\site-packages\\sklearn\\linear_model\\_logistic.py:814: ConvergenceWarning: lbfgs failed to converge (status=1):\n",
      "STOP: TOTAL NO. of ITERATIONS REACHED LIMIT.\n",
      "\n",
      "Increase the number of iterations (max_iter) or scale the data as shown in:\n",
      "    https://scikit-learn.org/stable/modules/preprocessing.html\n",
      "Please also refer to the documentation for alternative solver options:\n",
      "    https://scikit-learn.org/stable/modules/linear_model.html#logistic-regression\n",
      "  n_iter_i = _check_optimize_result(\n",
      "C:\\Users\\maria\\anaconda3\\lib\\site-packages\\sklearn\\linear_model\\_logistic.py:814: ConvergenceWarning: lbfgs failed to converge (status=1):\n",
      "STOP: TOTAL NO. of ITERATIONS REACHED LIMIT.\n",
      "\n",
      "Increase the number of iterations (max_iter) or scale the data as shown in:\n",
      "    https://scikit-learn.org/stable/modules/preprocessing.html\n",
      "Please also refer to the documentation for alternative solver options:\n",
      "    https://scikit-learn.org/stable/modules/linear_model.html#logistic-regression\n",
      "  n_iter_i = _check_optimize_result(\n",
      "C:\\Users\\maria\\anaconda3\\lib\\site-packages\\sklearn\\linear_model\\_logistic.py:814: ConvergenceWarning: lbfgs failed to converge (status=1):\n",
      "STOP: TOTAL NO. of ITERATIONS REACHED LIMIT.\n",
      "\n",
      "Increase the number of iterations (max_iter) or scale the data as shown in:\n",
      "    https://scikit-learn.org/stable/modules/preprocessing.html\n",
      "Please also refer to the documentation for alternative solver options:\n",
      "    https://scikit-learn.org/stable/modules/linear_model.html#logistic-regression\n",
      "  n_iter_i = _check_optimize_result(\n"
     ]
    },
    {
     "name": "stdout",
     "output_type": "stream",
     "text": [
      "[CV 3/5; 10/21] END ..........C=1, solver=lbfgs;, score=0.944 total time=   0.0s\n",
      "[CV 4/5; 10/21] START C=1, solver=lbfgs.........................................\n",
      "[CV 4/5; 10/21] END ..........C=1, solver=lbfgs;, score=0.882 total time=   0.0s\n",
      "[CV 5/5; 10/21] START C=1, solver=lbfgs.........................................\n",
      "[CV 5/5; 10/21] END ..........C=1, solver=lbfgs;, score=0.882 total time=   0.0s\n",
      "[CV 1/5; 11/21] START C=1, solver=liblinear.....................................\n"
     ]
    },
    {
     "name": "stderr",
     "output_type": "stream",
     "text": [
      "C:\\Users\\maria\\anaconda3\\lib\\site-packages\\sklearn\\linear_model\\_logistic.py:814: ConvergenceWarning: lbfgs failed to converge (status=1):\n",
      "STOP: TOTAL NO. of ITERATIONS REACHED LIMIT.\n",
      "\n",
      "Increase the number of iterations (max_iter) or scale the data as shown in:\n",
      "    https://scikit-learn.org/stable/modules/preprocessing.html\n",
      "Please also refer to the documentation for alternative solver options:\n",
      "    https://scikit-learn.org/stable/modules/linear_model.html#logistic-regression\n",
      "  n_iter_i = _check_optimize_result(\n",
      "C:\\Users\\maria\\anaconda3\\lib\\site-packages\\sklearn\\linear_model\\_logistic.py:814: ConvergenceWarning: lbfgs failed to converge (status=1):\n",
      "STOP: TOTAL NO. of ITERATIONS REACHED LIMIT.\n",
      "\n",
      "Increase the number of iterations (max_iter) or scale the data as shown in:\n",
      "    https://scikit-learn.org/stable/modules/preprocessing.html\n",
      "Please also refer to the documentation for alternative solver options:\n",
      "    https://scikit-learn.org/stable/modules/linear_model.html#logistic-regression\n",
      "  n_iter_i = _check_optimize_result(\n"
     ]
    },
    {
     "name": "stdout",
     "output_type": "stream",
     "text": [
      "[CV 1/5; 11/21] END ......C=1, solver=liblinear;, score=0.941 total time=   0.0s\n",
      "[CV 2/5; 11/21] START C=1, solver=liblinear.....................................\n",
      "[CV 2/5; 11/21] END ......C=1, solver=liblinear;, score=0.941 total time=   0.0s\n",
      "[CV 3/5; 11/21] START C=1, solver=liblinear.....................................\n",
      "[CV 3/5; 11/21] END ......C=1, solver=liblinear;, score=0.944 total time=   0.0s\n",
      "[CV 4/5; 11/21] START C=1, solver=liblinear.....................................\n",
      "[CV 4/5; 11/21] END ......C=1, solver=liblinear;, score=0.882 total time=   0.0s\n",
      "[CV 5/5; 11/21] START C=1, solver=liblinear.....................................\n",
      "[CV 5/5; 11/21] END ......C=1, solver=liblinear;, score=0.882 total time=   0.0s\n",
      "[CV 1/5; 12/21] START C=1, solver=saga..........................................\n"
     ]
    },
    {
     "name": "stderr",
     "output_type": "stream",
     "text": [
      "C:\\Users\\maria\\anaconda3\\lib\\site-packages\\sklearn\\linear_model\\_sag.py:352: ConvergenceWarning: The max_iter was reached which means the coef_ did not converge\n",
      "  warnings.warn(\n"
     ]
    },
    {
     "name": "stdout",
     "output_type": "stream",
     "text": [
      "[CV 1/5; 12/21] END ...........C=1, solver=saga;, score=0.941 total time=   0.7s\n",
      "[CV 2/5; 12/21] START C=1, solver=saga..........................................\n"
     ]
    },
    {
     "name": "stderr",
     "output_type": "stream",
     "text": [
      "C:\\Users\\maria\\anaconda3\\lib\\site-packages\\sklearn\\linear_model\\_sag.py:352: ConvergenceWarning: The max_iter was reached which means the coef_ did not converge\n",
      "  warnings.warn(\n"
     ]
    },
    {
     "name": "stdout",
     "output_type": "stream",
     "text": [
      "[CV 2/5; 12/21] END ...........C=1, solver=saga;, score=0.941 total time=   0.7s\n",
      "[CV 3/5; 12/21] START C=1, solver=saga..........................................\n"
     ]
    },
    {
     "name": "stderr",
     "output_type": "stream",
     "text": [
      "C:\\Users\\maria\\anaconda3\\lib\\site-packages\\sklearn\\linear_model\\_sag.py:352: ConvergenceWarning: The max_iter was reached which means the coef_ did not converge\n",
      "  warnings.warn(\n"
     ]
    },
    {
     "name": "stdout",
     "output_type": "stream",
     "text": [
      "[CV 3/5; 12/21] END ...........C=1, solver=saga;, score=0.944 total time=   0.8s\n",
      "[CV 4/5; 12/21] START C=1, solver=saga..........................................\n"
     ]
    },
    {
     "name": "stderr",
     "output_type": "stream",
     "text": [
      "C:\\Users\\maria\\anaconda3\\lib\\site-packages\\sklearn\\linear_model\\_sag.py:352: ConvergenceWarning: The max_iter was reached which means the coef_ did not converge\n",
      "  warnings.warn(\n"
     ]
    },
    {
     "name": "stdout",
     "output_type": "stream",
     "text": [
      "[CV 4/5; 12/21] END ...........C=1, solver=saga;, score=0.882 total time=   0.7s\n",
      "[CV 5/5; 12/21] START C=1, solver=saga..........................................\n"
     ]
    },
    {
     "name": "stderr",
     "output_type": "stream",
     "text": [
      "C:\\Users\\maria\\anaconda3\\lib\\site-packages\\sklearn\\linear_model\\_sag.py:352: ConvergenceWarning: The max_iter was reached which means the coef_ did not converge\n",
      "  warnings.warn(\n",
      "C:\\Users\\maria\\anaconda3\\lib\\site-packages\\sklearn\\linear_model\\_logistic.py:814: ConvergenceWarning: lbfgs failed to converge (status=1):\n",
      "STOP: TOTAL NO. of ITERATIONS REACHED LIMIT.\n",
      "\n",
      "Increase the number of iterations (max_iter) or scale the data as shown in:\n",
      "    https://scikit-learn.org/stable/modules/preprocessing.html\n",
      "Please also refer to the documentation for alternative solver options:\n",
      "    https://scikit-learn.org/stable/modules/linear_model.html#logistic-regression\n",
      "  n_iter_i = _check_optimize_result(\n",
      "C:\\Users\\maria\\anaconda3\\lib\\site-packages\\sklearn\\linear_model\\_logistic.py:814: ConvergenceWarning: lbfgs failed to converge (status=1):\n",
      "STOP: TOTAL NO. of ITERATIONS REACHED LIMIT.\n",
      "\n",
      "Increase the number of iterations (max_iter) or scale the data as shown in:\n",
      "    https://scikit-learn.org/stable/modules/preprocessing.html\n",
      "Please also refer to the documentation for alternative solver options:\n",
      "    https://scikit-learn.org/stable/modules/linear_model.html#logistic-regression\n",
      "  n_iter_i = _check_optimize_result(\n"
     ]
    },
    {
     "name": "stdout",
     "output_type": "stream",
     "text": [
      "[CV 5/5; 12/21] END ...........C=1, solver=saga;, score=0.882 total time=   0.8s\n",
      "[CV 1/5; 13/21] START C=10, solver=lbfgs........................................\n",
      "[CV 1/5; 13/21] END .........C=10, solver=lbfgs;, score=0.941 total time=   0.0s\n",
      "[CV 2/5; 13/21] START C=10, solver=lbfgs........................................\n",
      "[CV 2/5; 13/21] END .........C=10, solver=lbfgs;, score=0.941 total time=   0.0s\n",
      "[CV 3/5; 13/21] START C=10, solver=lbfgs........................................\n"
     ]
    },
    {
     "name": "stderr",
     "output_type": "stream",
     "text": [
      "C:\\Users\\maria\\anaconda3\\lib\\site-packages\\sklearn\\linear_model\\_logistic.py:814: ConvergenceWarning: lbfgs failed to converge (status=1):\n",
      "STOP: TOTAL NO. of ITERATIONS REACHED LIMIT.\n",
      "\n",
      "Increase the number of iterations (max_iter) or scale the data as shown in:\n",
      "    https://scikit-learn.org/stable/modules/preprocessing.html\n",
      "Please also refer to the documentation for alternative solver options:\n",
      "    https://scikit-learn.org/stable/modules/linear_model.html#logistic-regression\n",
      "  n_iter_i = _check_optimize_result(\n",
      "C:\\Users\\maria\\anaconda3\\lib\\site-packages\\sklearn\\linear_model\\_logistic.py:814: ConvergenceWarning: lbfgs failed to converge (status=1):\n",
      "STOP: TOTAL NO. of ITERATIONS REACHED LIMIT.\n",
      "\n",
      "Increase the number of iterations (max_iter) or scale the data as shown in:\n",
      "    https://scikit-learn.org/stable/modules/preprocessing.html\n",
      "Please also refer to the documentation for alternative solver options:\n",
      "    https://scikit-learn.org/stable/modules/linear_model.html#logistic-regression\n",
      "  n_iter_i = _check_optimize_result(\n",
      "C:\\Users\\maria\\anaconda3\\lib\\site-packages\\sklearn\\linear_model\\_logistic.py:814: ConvergenceWarning: lbfgs failed to converge (status=1):\n",
      "STOP: TOTAL NO. of ITERATIONS REACHED LIMIT.\n",
      "\n",
      "Increase the number of iterations (max_iter) or scale the data as shown in:\n",
      "    https://scikit-learn.org/stable/modules/preprocessing.html\n",
      "Please also refer to the documentation for alternative solver options:\n",
      "    https://scikit-learn.org/stable/modules/linear_model.html#logistic-regression\n",
      "  n_iter_i = _check_optimize_result(\n"
     ]
    },
    {
     "name": "stdout",
     "output_type": "stream",
     "text": [
      "[CV 3/5; 13/21] END .........C=10, solver=lbfgs;, score=0.914 total time=   0.0s\n",
      "[CV 4/5; 13/21] START C=10, solver=lbfgs........................................\n",
      "[CV 4/5; 13/21] END .........C=10, solver=lbfgs;, score=0.882 total time=   0.0s\n",
      "[CV 5/5; 13/21] START C=10, solver=lbfgs........................................\n",
      "[CV 5/5; 13/21] END .........C=10, solver=lbfgs;, score=0.882 total time=   0.0s\n",
      "[CV 1/5; 14/21] START C=10, solver=liblinear....................................\n",
      "[CV 1/5; 14/21] END .....C=10, solver=liblinear;, score=0.941 total time=   0.0s\n",
      "[CV 2/5; 14/21] START C=10, solver=liblinear....................................\n",
      "[CV 2/5; 14/21] END .....C=10, solver=liblinear;, score=0.941 total time=   0.0s\n",
      "[CV 3/5; 14/21] START C=10, solver=liblinear....................................\n",
      "[CV 3/5; 14/21] END .....C=10, solver=liblinear;, score=0.914 total time=   0.0s\n",
      "[CV 4/5; 14/21] START C=10, solver=liblinear....................................\n",
      "[CV 4/5; 14/21] END .....C=10, solver=liblinear;, score=0.882 total time=   0.0s\n",
      "[CV 5/5; 14/21] START C=10, solver=liblinear....................................\n",
      "[CV 5/5; 14/21] END .....C=10, solver=liblinear;, score=0.882 total time=   0.0s\n",
      "[CV 1/5; 15/21] START C=10, solver=saga.........................................\n"
     ]
    },
    {
     "name": "stderr",
     "output_type": "stream",
     "text": [
      "C:\\Users\\maria\\anaconda3\\lib\\site-packages\\sklearn\\linear_model\\_sag.py:352: ConvergenceWarning: The max_iter was reached which means the coef_ did not converge\n",
      "  warnings.warn(\n"
     ]
    },
    {
     "name": "stdout",
     "output_type": "stream",
     "text": [
      "[CV 1/5; 15/21] END ..........C=10, solver=saga;, score=0.941 total time=   0.7s\n",
      "[CV 2/5; 15/21] START C=10, solver=saga.........................................\n"
     ]
    },
    {
     "name": "stderr",
     "output_type": "stream",
     "text": [
      "C:\\Users\\maria\\anaconda3\\lib\\site-packages\\sklearn\\linear_model\\_sag.py:352: ConvergenceWarning: The max_iter was reached which means the coef_ did not converge\n",
      "  warnings.warn(\n"
     ]
    },
    {
     "name": "stdout",
     "output_type": "stream",
     "text": [
      "[CV 2/5; 15/21] END ..........C=10, solver=saga;, score=0.941 total time=   0.7s\n",
      "[CV 3/5; 15/21] START C=10, solver=saga.........................................\n"
     ]
    },
    {
     "name": "stderr",
     "output_type": "stream",
     "text": [
      "C:\\Users\\maria\\anaconda3\\lib\\site-packages\\sklearn\\linear_model\\_sag.py:352: ConvergenceWarning: The max_iter was reached which means the coef_ did not converge\n",
      "  warnings.warn(\n"
     ]
    },
    {
     "name": "stdout",
     "output_type": "stream",
     "text": [
      "[CV 3/5; 15/21] END ..........C=10, solver=saga;, score=0.944 total time=   0.7s\n",
      "[CV 4/5; 15/21] START C=10, solver=saga.........................................\n"
     ]
    },
    {
     "name": "stderr",
     "output_type": "stream",
     "text": [
      "C:\\Users\\maria\\anaconda3\\lib\\site-packages\\sklearn\\linear_model\\_sag.py:352: ConvergenceWarning: The max_iter was reached which means the coef_ did not converge\n",
      "  warnings.warn(\n"
     ]
    },
    {
     "name": "stdout",
     "output_type": "stream",
     "text": [
      "[CV 4/5; 15/21] END ..........C=10, solver=saga;, score=0.882 total time=   0.7s\n",
      "[CV 5/5; 15/21] START C=10, solver=saga.........................................\n"
     ]
    },
    {
     "name": "stderr",
     "output_type": "stream",
     "text": [
      "C:\\Users\\maria\\anaconda3\\lib\\site-packages\\sklearn\\linear_model\\_sag.py:352: ConvergenceWarning: The max_iter was reached which means the coef_ did not converge\n",
      "  warnings.warn(\n",
      "C:\\Users\\maria\\anaconda3\\lib\\site-packages\\sklearn\\linear_model\\_logistic.py:814: ConvergenceWarning: lbfgs failed to converge (status=1):\n",
      "STOP: TOTAL NO. of ITERATIONS REACHED LIMIT.\n",
      "\n",
      "Increase the number of iterations (max_iter) or scale the data as shown in:\n",
      "    https://scikit-learn.org/stable/modules/preprocessing.html\n",
      "Please also refer to the documentation for alternative solver options:\n",
      "    https://scikit-learn.org/stable/modules/linear_model.html#logistic-regression\n",
      "  n_iter_i = _check_optimize_result(\n",
      "C:\\Users\\maria\\anaconda3\\lib\\site-packages\\sklearn\\linear_model\\_logistic.py:814: ConvergenceWarning: lbfgs failed to converge (status=1):\n",
      "STOP: TOTAL NO. of ITERATIONS REACHED LIMIT.\n",
      "\n",
      "Increase the number of iterations (max_iter) or scale the data as shown in:\n",
      "    https://scikit-learn.org/stable/modules/preprocessing.html\n",
      "Please also refer to the documentation for alternative solver options:\n",
      "    https://scikit-learn.org/stable/modules/linear_model.html#logistic-regression\n",
      "  n_iter_i = _check_optimize_result(\n"
     ]
    },
    {
     "name": "stdout",
     "output_type": "stream",
     "text": [
      "[CV 5/5; 15/21] END ..........C=10, solver=saga;, score=0.882 total time=   0.7s\n",
      "[CV 1/5; 16/21] START C=100, solver=lbfgs.......................................\n",
      "[CV 1/5; 16/21] END ........C=100, solver=lbfgs;, score=0.941 total time=   0.0s\n",
      "[CV 2/5; 16/21] START C=100, solver=lbfgs.......................................\n",
      "[CV 2/5; 16/21] END ........C=100, solver=lbfgs;, score=0.941 total time=   0.0s\n",
      "[CV 3/5; 16/21] START C=100, solver=lbfgs.......................................\n"
     ]
    },
    {
     "name": "stderr",
     "output_type": "stream",
     "text": [
      "C:\\Users\\maria\\anaconda3\\lib\\site-packages\\sklearn\\linear_model\\_logistic.py:814: ConvergenceWarning: lbfgs failed to converge (status=1):\n",
      "STOP: TOTAL NO. of ITERATIONS REACHED LIMIT.\n",
      "\n",
      "Increase the number of iterations (max_iter) or scale the data as shown in:\n",
      "    https://scikit-learn.org/stable/modules/preprocessing.html\n",
      "Please also refer to the documentation for alternative solver options:\n",
      "    https://scikit-learn.org/stable/modules/linear_model.html#logistic-regression\n",
      "  n_iter_i = _check_optimize_result(\n",
      "C:\\Users\\maria\\anaconda3\\lib\\site-packages\\sklearn\\linear_model\\_logistic.py:814: ConvergenceWarning: lbfgs failed to converge (status=1):\n",
      "STOP: TOTAL NO. of ITERATIONS REACHED LIMIT.\n",
      "\n",
      "Increase the number of iterations (max_iter) or scale the data as shown in:\n",
      "    https://scikit-learn.org/stable/modules/preprocessing.html\n",
      "Please also refer to the documentation for alternative solver options:\n",
      "    https://scikit-learn.org/stable/modules/linear_model.html#logistic-regression\n",
      "  n_iter_i = _check_optimize_result(\n",
      "C:\\Users\\maria\\anaconda3\\lib\\site-packages\\sklearn\\linear_model\\_logistic.py:814: ConvergenceWarning: lbfgs failed to converge (status=1):\n",
      "STOP: TOTAL NO. of ITERATIONS REACHED LIMIT.\n",
      "\n",
      "Increase the number of iterations (max_iter) or scale the data as shown in:\n",
      "    https://scikit-learn.org/stable/modules/preprocessing.html\n",
      "Please also refer to the documentation for alternative solver options:\n",
      "    https://scikit-learn.org/stable/modules/linear_model.html#logistic-regression\n",
      "  n_iter_i = _check_optimize_result(\n"
     ]
    },
    {
     "name": "stdout",
     "output_type": "stream",
     "text": [
      "[CV 3/5; 16/21] END ........C=100, solver=lbfgs;, score=0.914 total time=   0.0s\n",
      "[CV 4/5; 16/21] START C=100, solver=lbfgs.......................................\n",
      "[CV 4/5; 16/21] END ........C=100, solver=lbfgs;, score=0.882 total time=   0.0s\n",
      "[CV 5/5; 16/21] START C=100, solver=lbfgs.......................................\n",
      "[CV 5/5; 16/21] END ........C=100, solver=lbfgs;, score=0.882 total time=   0.0s\n",
      "[CV 1/5; 17/21] START C=100, solver=liblinear...................................\n",
      "[CV 1/5; 17/21] END ....C=100, solver=liblinear;, score=0.941 total time=   0.0s\n",
      "[CV 2/5; 17/21] START C=100, solver=liblinear...................................\n",
      "[CV 2/5; 17/21] END ....C=100, solver=liblinear;, score=0.941 total time=   0.0s\n",
      "[CV 3/5; 17/21] START C=100, solver=liblinear...................................\n",
      "[CV 3/5; 17/21] END ....C=100, solver=liblinear;, score=0.914 total time=   0.0s\n",
      "[CV 4/5; 17/21] START C=100, solver=liblinear...................................\n",
      "[CV 4/5; 17/21] END ....C=100, solver=liblinear;, score=0.882 total time=   0.0s\n",
      "[CV 5/5; 17/21] START C=100, solver=liblinear...................................\n",
      "[CV 5/5; 17/21] END ....C=100, solver=liblinear;, score=0.882 total time=   0.0s\n",
      "[CV 1/5; 18/21] START C=100, solver=saga........................................\n"
     ]
    },
    {
     "name": "stderr",
     "output_type": "stream",
     "text": [
      "C:\\Users\\maria\\anaconda3\\lib\\site-packages\\sklearn\\linear_model\\_sag.py:352: ConvergenceWarning: The max_iter was reached which means the coef_ did not converge\n",
      "  warnings.warn(\n"
     ]
    },
    {
     "name": "stdout",
     "output_type": "stream",
     "text": [
      "[CV 1/5; 18/21] END .........C=100, solver=saga;, score=0.941 total time=   0.8s\n",
      "[CV 2/5; 18/21] START C=100, solver=saga........................................\n"
     ]
    },
    {
     "name": "stderr",
     "output_type": "stream",
     "text": [
      "C:\\Users\\maria\\anaconda3\\lib\\site-packages\\sklearn\\linear_model\\_sag.py:352: ConvergenceWarning: The max_iter was reached which means the coef_ did not converge\n",
      "  warnings.warn(\n"
     ]
    },
    {
     "name": "stdout",
     "output_type": "stream",
     "text": [
      "[CV 2/5; 18/21] END .........C=100, solver=saga;, score=0.941 total time=   0.8s\n",
      "[CV 3/5; 18/21] START C=100, solver=saga........................................\n"
     ]
    },
    {
     "name": "stderr",
     "output_type": "stream",
     "text": [
      "C:\\Users\\maria\\anaconda3\\lib\\site-packages\\sklearn\\linear_model\\_sag.py:352: ConvergenceWarning: The max_iter was reached which means the coef_ did not converge\n",
      "  warnings.warn(\n"
     ]
    },
    {
     "name": "stdout",
     "output_type": "stream",
     "text": [
      "[CV 3/5; 18/21] END .........C=100, solver=saga;, score=0.944 total time=   0.8s\n",
      "[CV 4/5; 18/21] START C=100, solver=saga........................................\n"
     ]
    },
    {
     "name": "stderr",
     "output_type": "stream",
     "text": [
      "C:\\Users\\maria\\anaconda3\\lib\\site-packages\\sklearn\\linear_model\\_sag.py:352: ConvergenceWarning: The max_iter was reached which means the coef_ did not converge\n",
      "  warnings.warn(\n"
     ]
    },
    {
     "name": "stdout",
     "output_type": "stream",
     "text": [
      "[CV 4/5; 18/21] END .........C=100, solver=saga;, score=0.882 total time=   0.7s\n",
      "[CV 5/5; 18/21] START C=100, solver=saga........................................\n"
     ]
    },
    {
     "name": "stderr",
     "output_type": "stream",
     "text": [
      "C:\\Users\\maria\\anaconda3\\lib\\site-packages\\sklearn\\linear_model\\_sag.py:352: ConvergenceWarning: The max_iter was reached which means the coef_ did not converge\n",
      "  warnings.warn(\n"
     ]
    },
    {
     "name": "stdout",
     "output_type": "stream",
     "text": [
      "[CV 5/5; 18/21] END .........C=100, solver=saga;, score=0.882 total time=   0.7s\n",
      "[CV 1/5; 19/21] START C=1000, solver=lbfgs......................................\n",
      "[CV 1/5; 19/21] END .......C=1000, solver=lbfgs;, score=0.914 total time=   0.0s\n",
      "[CV 2/5; 19/21] START C=1000, solver=lbfgs......................................\n",
      "[CV 2/5; 19/21] END .......C=1000, solver=lbfgs;, score=0.941 total time=   0.0s\n",
      "[CV 3/5; 19/21] START C=1000, solver=lbfgs......................................\n",
      "[CV 3/5; 19/21] END .......C=1000, solver=lbfgs;, score=0.914 total time=   0.0s\n",
      "[CV 4/5; 19/21] START C=1000, solver=lbfgs......................................\n",
      "[CV 4/5; 19/21] END .......C=1000, solver=lbfgs;, score=0.882 total time=   0.0s\n",
      "[CV 5/5; 19/21] START C=1000, solver=lbfgs......................................\n",
      "[CV 5/5; 19/21] END .......C=1000, solver=lbfgs;, score=0.882 total time=   0.0s\n",
      "[CV 1/5; 20/21] START C=1000, solver=liblinear..................................\n",
      "[CV 1/5; 20/21] END ...C=1000, solver=liblinear;, score=0.941 total time=   0.0s\n",
      "[CV 2/5; 20/21] START C=1000, solver=liblinear..................................\n",
      "[CV 2/5; 20/21] END ...C=1000, solver=liblinear;, score=0.941 total time=   0.0s\n",
      "[CV 3/5; 20/21] START C=1000, solver=liblinear..................................\n",
      "[CV 3/5; 20/21] END ...C=1000, solver=liblinear;, score=0.914 total time=   0.0s\n",
      "[CV 4/5; 20/21] START C=1000, solver=liblinear..................................\n",
      "[CV 4/5; 20/21] END ...C=1000, solver=liblinear;, score=0.882 total time=   0.0s\n",
      "[CV 5/5; 20/21] START C=1000, solver=liblinear..................................\n",
      "[CV 5/5; 20/21] END ...C=1000, solver=liblinear;, score=0.882 total time=   0.0s\n",
      "[CV 1/5; 21/21] START C=1000, solver=saga.......................................\n"
     ]
    },
    {
     "name": "stderr",
     "output_type": "stream",
     "text": [
      "C:\\Users\\maria\\anaconda3\\lib\\site-packages\\sklearn\\linear_model\\_sag.py:352: ConvergenceWarning: The max_iter was reached which means the coef_ did not converge\n",
      "  warnings.warn(\n"
     ]
    },
    {
     "name": "stdout",
     "output_type": "stream",
     "text": [
      "[CV 1/5; 21/21] END ........C=1000, solver=saga;, score=0.941 total time=   0.7s\n",
      "[CV 2/5; 21/21] START C=1000, solver=saga.......................................\n"
     ]
    },
    {
     "name": "stderr",
     "output_type": "stream",
     "text": [
      "C:\\Users\\maria\\anaconda3\\lib\\site-packages\\sklearn\\linear_model\\_sag.py:352: ConvergenceWarning: The max_iter was reached which means the coef_ did not converge\n",
      "  warnings.warn(\n"
     ]
    },
    {
     "name": "stdout",
     "output_type": "stream",
     "text": [
      "[CV 2/5; 21/21] END ........C=1000, solver=saga;, score=0.941 total time=   0.7s\n",
      "[CV 3/5; 21/21] START C=1000, solver=saga.......................................\n"
     ]
    },
    {
     "name": "stderr",
     "output_type": "stream",
     "text": [
      "C:\\Users\\maria\\anaconda3\\lib\\site-packages\\sklearn\\linear_model\\_sag.py:352: ConvergenceWarning: The max_iter was reached which means the coef_ did not converge\n",
      "  warnings.warn(\n"
     ]
    },
    {
     "name": "stdout",
     "output_type": "stream",
     "text": [
      "[CV 3/5; 21/21] END ........C=1000, solver=saga;, score=0.944 total time=   0.6s\n",
      "[CV 4/5; 21/21] START C=1000, solver=saga.......................................\n"
     ]
    },
    {
     "name": "stderr",
     "output_type": "stream",
     "text": [
      "C:\\Users\\maria\\anaconda3\\lib\\site-packages\\sklearn\\linear_model\\_sag.py:352: ConvergenceWarning: The max_iter was reached which means the coef_ did not converge\n",
      "  warnings.warn(\n"
     ]
    },
    {
     "name": "stdout",
     "output_type": "stream",
     "text": [
      "[CV 4/5; 21/21] END ........C=1000, solver=saga;, score=0.882 total time=   0.7s\n",
      "[CV 5/5; 21/21] START C=1000, solver=saga.......................................\n",
      "[CV 5/5; 21/21] END ........C=1000, solver=saga;, score=0.882 total time=   0.7s\n"
     ]
    },
    {
     "name": "stderr",
     "output_type": "stream",
     "text": [
      "C:\\Users\\maria\\anaconda3\\lib\\site-packages\\sklearn\\linear_model\\_sag.py:352: ConvergenceWarning: The max_iter was reached which means the coef_ did not converge\n",
      "  warnings.warn(\n"
     ]
    },
    {
     "data": {
      "text/plain": [
       "GridSearchCV(estimator=LogisticRegression(),\n",
       "             param_grid={'C': [0.001, 0.01, 0.1, 1, 10, 100, 1000],\n",
       "                         'solver': ['lbfgs', 'liblinear', 'saga']},\n",
       "             scoring=make_scorer(score_func), verbose=10)"
      ]
     },
     "execution_count": 18,
     "metadata": {},
     "output_type": "execute_result"
    }
   ],
   "source": [
    "lr_cv = GridSearchCV(estimator=LogisticRegression(), param_grid=grid_lr, scoring=scorer, verbose=10)\n",
    "lr_cv.fit(x_train, y_train)"
   ]
  },
  {
   "cell_type": "code",
   "execution_count": 19,
   "metadata": {
    "colab": {
     "base_uri": "https://localhost:8080/"
    },
    "id": "6abKkMlLOOqm",
    "outputId": "28b63fc5-38e8-41ec-ccc7-846286b9395c"
   },
   "outputs": [
    {
     "data": {
      "text/plain": [
       "{'C': 0.1, 'solver': 'lbfgs'}"
      ]
     },
     "execution_count": 19,
     "metadata": {},
     "output_type": "execute_result"
    }
   ],
   "source": [
    "lr_cv.best_params_"
   ]
  },
  {
   "cell_type": "code",
   "execution_count": 20,
   "metadata": {
    "colab": {
     "base_uri": "https://localhost:8080/"
    },
    "id": "yFdhMKbwOavC",
    "outputId": "70094302-047d-46cf-bcf8-6eefbc194b91"
   },
   "outputs": [
    {
     "name": "stdout",
     "output_type": "stream",
     "text": [
      "0.9253135488429607\n"
     ]
    }
   ],
   "source": [
    "lr_f1 = lr_cv.best_score_\n",
    "print(lr_f1)"
   ]
  },
  {
   "cell_type": "markdown",
   "metadata": {
    "id": "FPnH-AB9JZwD"
   },
   "source": [
    "## Случайный лес"
   ]
  },
  {
   "cell_type": "code",
   "execution_count": 21,
   "metadata": {
    "id": "1ki5roQIypy-"
   },
   "outputs": [],
   "source": [
    "grid = { \n",
    "    'n_estimators': [50, 100],\n",
    "    'max_depth' : [5, 10, 15],\n",
    "    'random_state' : [12345]\n",
    "}"
   ]
  },
  {
   "cell_type": "code",
   "execution_count": 22,
   "metadata": {
    "colab": {
     "base_uri": "https://localhost:8080/"
    },
    "id": "GdS5P7ApKmeR",
    "outputId": "9f012c9f-083e-49c3-98a5-811f5baecaab"
   },
   "outputs": [
    {
     "name": "stdout",
     "output_type": "stream",
     "text": [
      "Fitting 5 folds for each of 6 candidates, totalling 30 fits\n",
      "[CV 1/5; 1/6] START max_depth=5, n_estimators=50, random_state=12345............\n",
      "[CV 1/5; 1/6] END max_depth=5, n_estimators=50, random_state=12345;, score=0.970 total time=   0.2s\n",
      "[CV 2/5; 1/6] START max_depth=5, n_estimators=50, random_state=12345............\n",
      "[CV 2/5; 1/6] END max_depth=5, n_estimators=50, random_state=12345;, score=0.914 total time=   0.2s\n",
      "[CV 3/5; 1/6] START max_depth=5, n_estimators=50, random_state=12345............\n",
      "[CV 3/5; 1/6] END max_depth=5, n_estimators=50, random_state=12345;, score=0.944 total time=   0.2s\n",
      "[CV 4/5; 1/6] START max_depth=5, n_estimators=50, random_state=12345............\n",
      "[CV 4/5; 1/6] END max_depth=5, n_estimators=50, random_state=12345;, score=0.848 total time=   0.1s\n",
      "[CV 5/5; 1/6] START max_depth=5, n_estimators=50, random_state=12345............\n",
      "[CV 5/5; 1/6] END max_depth=5, n_estimators=50, random_state=12345;, score=0.857 total time=   0.2s\n",
      "[CV 1/5; 2/6] START max_depth=5, n_estimators=100, random_state=12345...........\n",
      "[CV 1/5; 2/6] END max_depth=5, n_estimators=100, random_state=12345;, score=0.971 total time=   0.4s\n",
      "[CV 2/5; 2/6] START max_depth=5, n_estimators=100, random_state=12345...........\n",
      "[CV 2/5; 2/6] END max_depth=5, n_estimators=100, random_state=12345;, score=0.914 total time=   0.4s\n",
      "[CV 3/5; 2/6] START max_depth=5, n_estimators=100, random_state=12345...........\n",
      "[CV 3/5; 2/6] END max_depth=5, n_estimators=100, random_state=12345;, score=0.944 total time=   0.4s\n",
      "[CV 4/5; 2/6] START max_depth=5, n_estimators=100, random_state=12345...........\n",
      "[CV 4/5; 2/6] END max_depth=5, n_estimators=100, random_state=12345;, score=0.848 total time=   0.4s\n",
      "[CV 5/5; 2/6] START max_depth=5, n_estimators=100, random_state=12345...........\n",
      "[CV 5/5; 2/6] END max_depth=5, n_estimators=100, random_state=12345;, score=0.889 total time=   0.4s\n",
      "[CV 1/5; 3/6] START max_depth=10, n_estimators=50, random_state=12345...........\n",
      "[CV 1/5; 3/6] END max_depth=10, n_estimators=50, random_state=12345;, score=0.970 total time=   0.2s\n",
      "[CV 2/5; 3/6] START max_depth=10, n_estimators=50, random_state=12345...........\n",
      "[CV 2/5; 3/6] END max_depth=10, n_estimators=50, random_state=12345;, score=0.914 total time=   0.1s\n",
      "[CV 3/5; 3/6] START max_depth=10, n_estimators=50, random_state=12345...........\n",
      "[CV 3/5; 3/6] END max_depth=10, n_estimators=50, random_state=12345;, score=0.944 total time=   0.2s\n",
      "[CV 4/5; 3/6] START max_depth=10, n_estimators=50, random_state=12345...........\n",
      "[CV 4/5; 3/6] END max_depth=10, n_estimators=50, random_state=12345;, score=0.848 total time=   0.1s\n",
      "[CV 5/5; 3/6] START max_depth=10, n_estimators=50, random_state=12345...........\n",
      "[CV 5/5; 3/6] END max_depth=10, n_estimators=50, random_state=12345;, score=0.857 total time=   0.1s\n",
      "[CV 1/5; 4/6] START max_depth=10, n_estimators=100, random_state=12345..........\n",
      "[CV 1/5; 4/6] END max_depth=10, n_estimators=100, random_state=12345;, score=0.971 total time=   0.4s\n",
      "[CV 2/5; 4/6] START max_depth=10, n_estimators=100, random_state=12345..........\n",
      "[CV 2/5; 4/6] END max_depth=10, n_estimators=100, random_state=12345;, score=0.914 total time=   0.4s\n",
      "[CV 3/5; 4/6] START max_depth=10, n_estimators=100, random_state=12345..........\n",
      "[CV 3/5; 4/6] END max_depth=10, n_estimators=100, random_state=12345;, score=0.944 total time=   0.3s\n",
      "[CV 4/5; 4/6] START max_depth=10, n_estimators=100, random_state=12345..........\n",
      "[CV 4/5; 4/6] END max_depth=10, n_estimators=100, random_state=12345;, score=0.848 total time=   0.4s\n",
      "[CV 5/5; 4/6] START max_depth=10, n_estimators=100, random_state=12345..........\n",
      "[CV 5/5; 4/6] END max_depth=10, n_estimators=100, random_state=12345;, score=0.889 total time=   0.3s\n",
      "[CV 1/5; 5/6] START max_depth=15, n_estimators=50, random_state=12345...........\n",
      "[CV 1/5; 5/6] END max_depth=15, n_estimators=50, random_state=12345;, score=0.970 total time=   0.1s\n",
      "[CV 2/5; 5/6] START max_depth=15, n_estimators=50, random_state=12345...........\n",
      "[CV 2/5; 5/6] END max_depth=15, n_estimators=50, random_state=12345;, score=0.914 total time=   0.1s\n",
      "[CV 3/5; 5/6] START max_depth=15, n_estimators=50, random_state=12345...........\n",
      "[CV 3/5; 5/6] END max_depth=15, n_estimators=50, random_state=12345;, score=0.944 total time=   0.2s\n",
      "[CV 4/5; 5/6] START max_depth=15, n_estimators=50, random_state=12345...........\n",
      "[CV 4/5; 5/6] END max_depth=15, n_estimators=50, random_state=12345;, score=0.848 total time=   0.2s\n",
      "[CV 5/5; 5/6] START max_depth=15, n_estimators=50, random_state=12345...........\n",
      "[CV 5/5; 5/6] END max_depth=15, n_estimators=50, random_state=12345;, score=0.857 total time=   0.1s\n",
      "[CV 1/5; 6/6] START max_depth=15, n_estimators=100, random_state=12345..........\n",
      "[CV 1/5; 6/6] END max_depth=15, n_estimators=100, random_state=12345;, score=0.971 total time=   0.4s\n",
      "[CV 2/5; 6/6] START max_depth=15, n_estimators=100, random_state=12345..........\n",
      "[CV 2/5; 6/6] END max_depth=15, n_estimators=100, random_state=12345;, score=0.914 total time=   0.4s\n",
      "[CV 3/5; 6/6] START max_depth=15, n_estimators=100, random_state=12345..........\n",
      "[CV 3/5; 6/6] END max_depth=15, n_estimators=100, random_state=12345;, score=0.944 total time=   0.4s\n",
      "[CV 4/5; 6/6] START max_depth=15, n_estimators=100, random_state=12345..........\n",
      "[CV 4/5; 6/6] END max_depth=15, n_estimators=100, random_state=12345;, score=0.848 total time=   0.4s\n",
      "[CV 5/5; 6/6] START max_depth=15, n_estimators=100, random_state=12345..........\n",
      "[CV 5/5; 6/6] END max_depth=15, n_estimators=100, random_state=12345;, score=0.889 total time=   0.3s\n"
     ]
    },
    {
     "data": {
      "text/plain": [
       "GridSearchCV(estimator=RandomForestClassifier(),\n",
       "             param_grid={'max_depth': [5, 10, 15], 'n_estimators': [50, 100],\n",
       "                         'random_state': [12345]},\n",
       "             scoring=make_scorer(score_func), verbose=10)"
      ]
     },
     "execution_count": 22,
     "metadata": {},
     "output_type": "execute_result"
    }
   ],
   "source": [
    "rf_cv = GridSearchCV(estimator=RandomForestClassifier(), param_grid=grid, scoring=scorer, verbose=10)\n",
    "rf_cv.fit(x_train, y_train)"
   ]
  },
  {
   "cell_type": "code",
   "execution_count": 23,
   "metadata": {
    "colab": {
     "base_uri": "https://localhost:8080/"
    },
    "id": "rGIhpI57LgO8",
    "outputId": "a0d72721-0dfa-430f-c37f-8d645b95c174"
   },
   "outputs": [
    {
     "data": {
      "text/plain": [
       "{'max_depth': 5, 'n_estimators': 100, 'random_state': 12345}"
      ]
     },
     "execution_count": 23,
     "metadata": {},
     "output_type": "execute_result"
    }
   ],
   "source": [
    "rf_cv.best_params_"
   ]
  },
  {
   "cell_type": "code",
   "execution_count": 24,
   "metadata": {
    "colab": {
     "base_uri": "https://localhost:8080/"
    },
    "id": "dMOCcBfPLuY3",
    "outputId": "329d644f-dda3-4dd0-c528-6864be01a350"
   },
   "outputs": [
    {
     "name": "stdout",
     "output_type": "stream",
     "text": [
      "0.9135064935064936\n"
     ]
    }
   ],
   "source": [
    "rf_f1 = rf_cv.best_score_\n",
    "print(rf_f1)"
   ]
  },
  {
   "cell_type": "markdown",
   "metadata": {
    "id": "161SwuEyJfMw"
   },
   "source": [
    "## Бустинг"
   ]
  },
  {
   "cell_type": "code",
   "execution_count": 25,
   "metadata": {
    "id": "mDXoslYQJhV7"
   },
   "outputs": [],
   "source": [
    "params = {'learning_rate': [0.03],\n",
    "          'max_depth': [2, 3, 4, 5, 10, 100],\n",
    "          'num_leaves': [10, 100]\n",
    "         }"
   ]
  },
  {
   "cell_type": "code",
   "execution_count": 26,
   "metadata": {
    "id": "l0VQBveaL_ck"
   },
   "outputs": [],
   "source": [
    "lgbm_cv = GridSearchCV(estimator=LGBMClassifier(), param_grid=params, scoring=scorer, verbose=10)"
   ]
  },
  {
   "cell_type": "code",
   "execution_count": 27,
   "metadata": {
    "colab": {
     "base_uri": "https://localhost:8080/"
    },
    "id": "Ie5sAVXZMHWu",
    "outputId": "81e53bb8-4eae-48d3-bdcb-220ff859d5ec"
   },
   "outputs": [
    {
     "name": "stdout",
     "output_type": "stream",
     "text": [
      "Fitting 5 folds for each of 12 candidates, totalling 60 fits\n",
      "[CV 1/5; 1/12] START learning_rate=0.03, max_depth=2, num_leaves=10.............\n",
      "[CV 1/5; 1/12] END learning_rate=0.03, max_depth=2, num_leaves=10;, score=0.971 total time=   0.3s\n",
      "[CV 2/5; 1/12] START learning_rate=0.03, max_depth=2, num_leaves=10.............\n",
      "[CV 2/5; 1/12] END learning_rate=0.03, max_depth=2, num_leaves=10;, score=0.941 total time=   0.2s\n",
      "[CV 3/5; 1/12] START learning_rate=0.03, max_depth=2, num_leaves=10.............\n",
      "[CV 3/5; 1/12] END learning_rate=0.03, max_depth=2, num_leaves=10;, score=0.944 total time=   0.2s\n",
      "[CV 4/5; 1/12] START learning_rate=0.03, max_depth=2, num_leaves=10.............\n",
      "[CV 4/5; 1/12] END learning_rate=0.03, max_depth=2, num_leaves=10;, score=0.813 total time=   0.2s\n",
      "[CV 5/5; 1/12] START learning_rate=0.03, max_depth=2, num_leaves=10.............\n",
      "[CV 5/5; 1/12] END learning_rate=0.03, max_depth=2, num_leaves=10;, score=0.889 total time=   0.2s\n",
      "[CV 1/5; 2/12] START learning_rate=0.03, max_depth=2, num_leaves=100............\n",
      "[CV 1/5; 2/12] END learning_rate=0.03, max_depth=2, num_leaves=100;, score=0.971 total time=   0.2s\n",
      "[CV 2/5; 2/12] START learning_rate=0.03, max_depth=2, num_leaves=100............\n",
      "[CV 2/5; 2/12] END learning_rate=0.03, max_depth=2, num_leaves=100;, score=0.941 total time=   0.2s\n",
      "[CV 3/5; 2/12] START learning_rate=0.03, max_depth=2, num_leaves=100............\n",
      "[CV 3/5; 2/12] END learning_rate=0.03, max_depth=2, num_leaves=100;, score=0.944 total time=   0.2s\n",
      "[CV 4/5; 2/12] START learning_rate=0.03, max_depth=2, num_leaves=100............\n",
      "[CV 4/5; 2/12] END learning_rate=0.03, max_depth=2, num_leaves=100;, score=0.813 total time=   0.2s\n",
      "[CV 5/5; 2/12] START learning_rate=0.03, max_depth=2, num_leaves=100............\n",
      "[CV 5/5; 2/12] END learning_rate=0.03, max_depth=2, num_leaves=100;, score=0.889 total time=   0.2s\n",
      "[CV 1/5; 3/12] START learning_rate=0.03, max_depth=3, num_leaves=10.............\n",
      "[CV 1/5; 3/12] END learning_rate=0.03, max_depth=3, num_leaves=10;, score=0.971 total time=   0.5s\n",
      "[CV 2/5; 3/12] START learning_rate=0.03, max_depth=3, num_leaves=10.............\n",
      "[CV 2/5; 3/12] END learning_rate=0.03, max_depth=3, num_leaves=10;, score=0.941 total time=   0.5s\n",
      "[CV 3/5; 3/12] START learning_rate=0.03, max_depth=3, num_leaves=10.............\n",
      "[CV 3/5; 3/12] END learning_rate=0.03, max_depth=3, num_leaves=10;, score=0.944 total time=   0.4s\n",
      "[CV 4/5; 3/12] START learning_rate=0.03, max_depth=3, num_leaves=10.............\n",
      "[CV 4/5; 3/12] END learning_rate=0.03, max_depth=3, num_leaves=10;, score=0.813 total time=   0.4s\n",
      "[CV 5/5; 3/12] START learning_rate=0.03, max_depth=3, num_leaves=10.............\n",
      "[CV 5/5; 3/12] END learning_rate=0.03, max_depth=3, num_leaves=10;, score=0.857 total time=   0.4s\n",
      "[CV 1/5; 4/12] START learning_rate=0.03, max_depth=3, num_leaves=100............\n",
      "[CV 1/5; 4/12] END learning_rate=0.03, max_depth=3, num_leaves=100;, score=0.971 total time=   0.5s\n",
      "[CV 2/5; 4/12] START learning_rate=0.03, max_depth=3, num_leaves=100............\n",
      "[CV 2/5; 4/12] END learning_rate=0.03, max_depth=3, num_leaves=100;, score=0.941 total time=   0.4s\n",
      "[CV 3/5; 4/12] START learning_rate=0.03, max_depth=3, num_leaves=100............\n",
      "[CV 3/5; 4/12] END learning_rate=0.03, max_depth=3, num_leaves=100;, score=0.944 total time=   0.5s\n",
      "[CV 4/5; 4/12] START learning_rate=0.03, max_depth=3, num_leaves=100............\n",
      "[CV 4/5; 4/12] END learning_rate=0.03, max_depth=3, num_leaves=100;, score=0.813 total time=   0.5s\n",
      "[CV 5/5; 4/12] START learning_rate=0.03, max_depth=3, num_leaves=100............\n",
      "[CV 5/5; 4/12] END learning_rate=0.03, max_depth=3, num_leaves=100;, score=0.857 total time=   0.5s\n",
      "[CV 1/5; 5/12] START learning_rate=0.03, max_depth=4, num_leaves=10.............\n",
      "[CV 1/5; 5/12] END learning_rate=0.03, max_depth=4, num_leaves=10;, score=0.971 total time=   0.6s\n",
      "[CV 2/5; 5/12] START learning_rate=0.03, max_depth=4, num_leaves=10.............\n",
      "[CV 2/5; 5/12] END learning_rate=0.03, max_depth=4, num_leaves=10;, score=0.941 total time=   0.6s\n",
      "[CV 3/5; 5/12] START learning_rate=0.03, max_depth=4, num_leaves=10.............\n",
      "[CV 3/5; 5/12] END learning_rate=0.03, max_depth=4, num_leaves=10;, score=0.944 total time=   0.6s\n",
      "[CV 4/5; 5/12] START learning_rate=0.03, max_depth=4, num_leaves=10.............\n",
      "[CV 4/5; 5/12] END learning_rate=0.03, max_depth=4, num_leaves=10;, score=0.813 total time=   0.6s\n",
      "[CV 5/5; 5/12] START learning_rate=0.03, max_depth=4, num_leaves=10.............\n",
      "[CV 5/5; 5/12] END learning_rate=0.03, max_depth=4, num_leaves=10;, score=0.857 total time=   0.6s\n",
      "[CV 1/5; 6/12] START learning_rate=0.03, max_depth=4, num_leaves=100............\n",
      "[CV 1/5; 6/12] END learning_rate=0.03, max_depth=4, num_leaves=100;, score=0.971 total time=   0.6s\n",
      "[CV 2/5; 6/12] START learning_rate=0.03, max_depth=4, num_leaves=100............\n",
      "[CV 2/5; 6/12] END learning_rate=0.03, max_depth=4, num_leaves=100;, score=0.941 total time=   0.6s\n",
      "[CV 3/5; 6/12] START learning_rate=0.03, max_depth=4, num_leaves=100............\n",
      "[CV 3/5; 6/12] END learning_rate=0.03, max_depth=4, num_leaves=100;, score=0.944 total time=   0.7s\n",
      "[CV 4/5; 6/12] START learning_rate=0.03, max_depth=4, num_leaves=100............\n",
      "[CV 4/5; 6/12] END learning_rate=0.03, max_depth=4, num_leaves=100;, score=0.813 total time=   0.8s\n",
      "[CV 5/5; 6/12] START learning_rate=0.03, max_depth=4, num_leaves=100............\n",
      "[CV 5/5; 6/12] END learning_rate=0.03, max_depth=4, num_leaves=100;, score=0.857 total time=   1.1s\n",
      "[CV 1/5; 7/12] START learning_rate=0.03, max_depth=5, num_leaves=10.............\n",
      "[CV 1/5; 7/12] END learning_rate=0.03, max_depth=5, num_leaves=10;, score=0.971 total time=   0.9s\n",
      "[CV 2/5; 7/12] START learning_rate=0.03, max_depth=5, num_leaves=10.............\n",
      "[CV 2/5; 7/12] END learning_rate=0.03, max_depth=5, num_leaves=10;, score=0.941 total time=   1.0s\n",
      "[CV 3/5; 7/12] START learning_rate=0.03, max_depth=5, num_leaves=10.............\n",
      "[CV 3/5; 7/12] END learning_rate=0.03, max_depth=5, num_leaves=10;, score=0.944 total time=   1.5s\n",
      "[CV 4/5; 7/12] START learning_rate=0.03, max_depth=5, num_leaves=10.............\n",
      "[CV 4/5; 7/12] END learning_rate=0.03, max_depth=5, num_leaves=10;, score=0.813 total time=   0.7s\n",
      "[CV 5/5; 7/12] START learning_rate=0.03, max_depth=5, num_leaves=10.............\n",
      "[CV 5/5; 7/12] END learning_rate=0.03, max_depth=5, num_leaves=10;, score=0.857 total time=   0.8s\n",
      "[CV 1/5; 8/12] START learning_rate=0.03, max_depth=5, num_leaves=100............\n",
      "[CV 1/5; 8/12] END learning_rate=0.03, max_depth=5, num_leaves=100;, score=0.971 total time=   0.8s\n",
      "[CV 2/5; 8/12] START learning_rate=0.03, max_depth=5, num_leaves=100............\n",
      "[CV 2/5; 8/12] END learning_rate=0.03, max_depth=5, num_leaves=100;, score=0.941 total time=   0.8s\n",
      "[CV 3/5; 8/12] START learning_rate=0.03, max_depth=5, num_leaves=100............\n",
      "[CV 3/5; 8/12] END learning_rate=0.03, max_depth=5, num_leaves=100;, score=0.944 total time=   0.8s\n",
      "[CV 4/5; 8/12] START learning_rate=0.03, max_depth=5, num_leaves=100............\n",
      "[CV 4/5; 8/12] END learning_rate=0.03, max_depth=5, num_leaves=100;, score=0.813 total time=   0.7s\n",
      "[CV 5/5; 8/12] START learning_rate=0.03, max_depth=5, num_leaves=100............\n",
      "[CV 5/5; 8/12] END learning_rate=0.03, max_depth=5, num_leaves=100;, score=0.857 total time=   0.7s\n",
      "[CV 1/5; 9/12] START learning_rate=0.03, max_depth=10, num_leaves=10............\n",
      "[CV 1/5; 9/12] END learning_rate=0.03, max_depth=10, num_leaves=10;, score=0.971 total time=   0.9s\n",
      "[CV 2/5; 9/12] START learning_rate=0.03, max_depth=10, num_leaves=10............\n",
      "[CV 2/5; 9/12] END learning_rate=0.03, max_depth=10, num_leaves=10;, score=0.941 total time=   0.9s\n",
      "[CV 3/5; 9/12] START learning_rate=0.03, max_depth=10, num_leaves=10............\n",
      "[CV 3/5; 9/12] END learning_rate=0.03, max_depth=10, num_leaves=10;, score=0.944 total time=   0.8s\n",
      "[CV 4/5; 9/12] START learning_rate=0.03, max_depth=10, num_leaves=10............\n",
      "[CV 4/5; 9/12] END learning_rate=0.03, max_depth=10, num_leaves=10;, score=0.813 total time=   0.8s\n",
      "[CV 5/5; 9/12] START learning_rate=0.03, max_depth=10, num_leaves=10............\n",
      "[CV 5/5; 9/12] END learning_rate=0.03, max_depth=10, num_leaves=10;, score=0.857 total time=   0.8s\n",
      "[CV 1/5; 10/12] START learning_rate=0.03, max_depth=10, num_leaves=100..........\n",
      "[CV 1/5; 10/12] END learning_rate=0.03, max_depth=10, num_leaves=100;, score=0.971 total time=   1.4s\n",
      "[CV 2/5; 10/12] START learning_rate=0.03, max_depth=10, num_leaves=100..........\n",
      "[CV 2/5; 10/12] END learning_rate=0.03, max_depth=10, num_leaves=100;, score=0.941 total time=   1.3s\n",
      "[CV 3/5; 10/12] START learning_rate=0.03, max_depth=10, num_leaves=100..........\n",
      "[CV 3/5; 10/12] END learning_rate=0.03, max_depth=10, num_leaves=100;, score=0.944 total time=   1.3s\n",
      "[CV 4/5; 10/12] START learning_rate=0.03, max_depth=10, num_leaves=100..........\n",
      "[CV 4/5; 10/12] END learning_rate=0.03, max_depth=10, num_leaves=100;, score=0.813 total time=   1.3s\n",
      "[CV 5/5; 10/12] START learning_rate=0.03, max_depth=10, num_leaves=100..........\n",
      "[CV 5/5; 10/12] END learning_rate=0.03, max_depth=10, num_leaves=100;, score=0.857 total time=   1.3s\n",
      "[CV 1/5; 11/12] START learning_rate=0.03, max_depth=100, num_leaves=10..........\n",
      "[CV 1/5; 11/12] END learning_rate=0.03, max_depth=100, num_leaves=10;, score=0.971 total time=   0.9s\n",
      "[CV 2/5; 11/12] START learning_rate=0.03, max_depth=100, num_leaves=10..........\n",
      "[CV 2/5; 11/12] END learning_rate=0.03, max_depth=100, num_leaves=10;, score=0.941 total time=   0.9s\n",
      "[CV 3/5; 11/12] START learning_rate=0.03, max_depth=100, num_leaves=10..........\n",
      "[CV 3/5; 11/12] END learning_rate=0.03, max_depth=100, num_leaves=10;, score=0.944 total time=   0.9s\n",
      "[CV 4/5; 11/12] START learning_rate=0.03, max_depth=100, num_leaves=10..........\n",
      "[CV 4/5; 11/12] END learning_rate=0.03, max_depth=100, num_leaves=10;, score=0.813 total time=   0.9s\n",
      "[CV 5/5; 11/12] START learning_rate=0.03, max_depth=100, num_leaves=10..........\n",
      "[CV 5/5; 11/12] END learning_rate=0.03, max_depth=100, num_leaves=10;, score=0.857 total time=   0.9s\n",
      "[CV 1/5; 12/12] START learning_rate=0.03, max_depth=100, num_leaves=100.........\n",
      "[CV 1/5; 12/12] END learning_rate=0.03, max_depth=100, num_leaves=100;, score=0.971 total time=   2.5s\n",
      "[CV 2/5; 12/12] START learning_rate=0.03, max_depth=100, num_leaves=100.........\n",
      "[CV 2/5; 12/12] END learning_rate=0.03, max_depth=100, num_leaves=100;, score=0.941 total time=   2.7s\n",
      "[CV 3/5; 12/12] START learning_rate=0.03, max_depth=100, num_leaves=100.........\n",
      "[CV 3/5; 12/12] END learning_rate=0.03, max_depth=100, num_leaves=100;, score=0.944 total time=   2.9s\n",
      "[CV 4/5; 12/12] START learning_rate=0.03, max_depth=100, num_leaves=100.........\n",
      "[CV 4/5; 12/12] END learning_rate=0.03, max_depth=100, num_leaves=100;, score=0.813 total time=   3.1s\n",
      "[CV 5/5; 12/12] START learning_rate=0.03, max_depth=100, num_leaves=100.........\n",
      "[CV 5/5; 12/12] END learning_rate=0.03, max_depth=100, num_leaves=100;, score=0.857 total time=   3.1s\n"
     ]
    },
    {
     "data": {
      "text/plain": [
       "GridSearchCV(estimator=LGBMClassifier(),\n",
       "             param_grid={'learning_rate': [0.03],\n",
       "                         'max_depth': [2, 3, 4, 5, 10, 100],\n",
       "                         'num_leaves': [10, 100]},\n",
       "             scoring=make_scorer(score_func), verbose=10)"
      ]
     },
     "execution_count": 27,
     "metadata": {},
     "output_type": "execute_result"
    }
   ],
   "source": [
    "lgbm_cv.fit(x_train, y_train)"
   ]
  },
  {
   "cell_type": "code",
   "execution_count": 28,
   "metadata": {
    "colab": {
     "base_uri": "https://localhost:8080/"
    },
    "id": "27hpwIkWMKw2",
    "outputId": "c4ea9a38-6da7-422f-b4dc-a8dbb3227654"
   },
   "outputs": [
    {
     "data": {
      "text/plain": [
       "{'learning_rate': 0.03, 'max_depth': 2, 'num_leaves': 10}"
      ]
     },
     "execution_count": 28,
     "metadata": {},
     "output_type": "execute_result"
    }
   ],
   "source": [
    "lgbm_cv.best_params_"
   ]
  },
  {
   "cell_type": "code",
   "execution_count": 29,
   "metadata": {
    "colab": {
     "base_uri": "https://localhost:8080/"
    },
    "id": "LMHcXaovM0ln",
    "outputId": "27021779-7e51-4a00-9233-3fa66773434a"
   },
   "outputs": [
    {
     "name": "stdout",
     "output_type": "stream",
     "text": [
      "0.9116876750700278\n"
     ]
    }
   ],
   "source": [
    "lgbm_f1 = lgbm_cv.best_score_\n",
    "print(lgbm_f1)"
   ]
  },
  {
   "cell_type": "markdown",
   "metadata": {
    "id": "8oPFsEWnOwTf"
   },
   "source": [
    "## Сравнение моделей"
   ]
  },
  {
   "cell_type": "code",
   "execution_count": 30,
   "metadata": {
    "id": "JBoJ7EipO1bi"
   },
   "outputs": [],
   "source": [
    "index = ['LogisticRegression', 'RandomForestClassifier', 'LGBMClassifier']\n",
    "f1_list = [lr_f1, rf_f1, lgbm_f1]\n",
    "result = pd.DataFrame({'F1':f1_list}, index=index)"
   ]
  },
  {
   "cell_type": "code",
   "execution_count": 31,
   "metadata": {
    "colab": {
     "base_uri": "https://localhost:8080/",
     "height": 143
    },
    "id": "SFdNgCzXP3bM",
    "outputId": "3a247f2e-0e65-4fa4-b35a-84577db2d79e"
   },
   "outputs": [
    {
     "data": {
      "text/html": [
       "<div>\n",
       "<style scoped>\n",
       "    .dataframe tbody tr th:only-of-type {\n",
       "        vertical-align: middle;\n",
       "    }\n",
       "\n",
       "    .dataframe tbody tr th {\n",
       "        vertical-align: top;\n",
       "    }\n",
       "\n",
       "    .dataframe thead th {\n",
       "        text-align: right;\n",
       "    }\n",
       "</style>\n",
       "<table border=\"1\" class=\"dataframe\">\n",
       "  <thead>\n",
       "    <tr style=\"text-align: right;\">\n",
       "      <th></th>\n",
       "      <th>F1</th>\n",
       "    </tr>\n",
       "  </thead>\n",
       "  <tbody>\n",
       "    <tr>\n",
       "      <th>LogisticRegression</th>\n",
       "      <td>0.925314</td>\n",
       "    </tr>\n",
       "    <tr>\n",
       "      <th>RandomForestClassifier</th>\n",
       "      <td>0.913506</td>\n",
       "    </tr>\n",
       "    <tr>\n",
       "      <th>LGBMClassifier</th>\n",
       "      <td>0.911688</td>\n",
       "    </tr>\n",
       "  </tbody>\n",
       "</table>\n",
       "</div>"
      ],
      "text/plain": [
       "                              F1\n",
       "LogisticRegression      0.925314\n",
       "RandomForestClassifier  0.913506\n",
       "LGBMClassifier          0.911688"
      ]
     },
     "metadata": {},
     "output_type": "display_data"
    }
   ],
   "source": [
    "display(result)"
   ]
  },
  {
   "cell_type": "markdown",
   "metadata": {
    "id": "5oF0Idld36ZW"
   },
   "source": [
    "Лучший результат показала модель **LogisticRegression** *(f1 = 0.93)*. Далее проверим ее значение F1 на тестовой выборке."
   ]
  },
  {
   "cell_type": "markdown",
   "metadata": {
    "id": "f39tbPccO8LM"
   },
   "source": [
    "## Тестирование"
   ]
  },
  {
   "cell_type": "code",
   "execution_count": 32,
   "metadata": {
    "colab": {
     "base_uri": "https://localhost:8080/"
    },
    "id": "o_rqBFxIO-bZ",
    "outputId": "76b3ff45-7d06-498b-abe3-101c128b466c"
   },
   "outputs": [
    {
     "name": "stdout",
     "output_type": "stream",
     "text": [
      "0.9777777777777777\n"
     ]
    }
   ],
   "source": [
    "predicted_test = lr_cv.predict(x_test)\n",
    "test_f1 = score_func(y_test, predicted_test)\n",
    "print(test_f1)"
   ]
  },
  {
   "cell_type": "markdown",
   "metadata": {
    "id": "g3_u8czJ4GWk"
   },
   "source": [
    "Полученное значение больше заданного в условии."
   ]
  },
  {
   "cell_type": "markdown",
   "metadata": {
    "id": "wfq8pEu4R5wn"
   },
   "source": [
    "# Выводы"
   ]
  },
  {
   "cell_type": "markdown",
   "metadata": {
    "id": "yA40FkIGEEJJ"
   },
   "source": [
    "Мы получили таблицу данных с текстами комментариев и признаком токсичности (0 или 1). В таблице 159292 строк без пропусков. Комментарии написаны на английском языке.\n",
    "10% слов в комментариях токсичны.\n",
    "\n",
    "Мы уменьшили выборку до 1000 комментариев, чтобы упростить дальнейший расчет. В уменьшенной выборке соотношение токсичных и нетоксичных слов сохраняется.\n",
    "\n",
    "В проекте мы использовали модель *Detoxify*, специально обученную для предсказания токсичных слов английского языка. Преобразовав текст в эмбеддинги, мы использовали их как обучающие признаки для моделей. Целевым признаком является столбце *toxic*.\n",
    "\n",
    "Мы обучили три модели: логистическую регрессию, случайный лес и бустинг LightGBM, попробовав разные гиперпараметры. Все модели показали высокие результаты. Модель **LogisticRegression** была немного лучше остальных. Мы выбрали ее для проверки показателя *f1* на тестовой выборке.\n",
    "\n",
    "В результате тестирования мы получили значение, превышающее заданное по условию (0.75). Из чего можно сделать вывод, что данную модель можно рекомендовать заказчику."
   ]
  }
 ],
 "metadata": {
  "ExecuteTimeLog": [
   {
    "duration": 911,
    "start_time": "2022-11-26T07:54:49.218Z"
   },
   {
    "duration": 1762,
    "start_time": "2022-11-26T07:55:18.526Z"
   },
   {
    "duration": 10180,
    "start_time": "2022-11-26T07:55:53.224Z"
   },
   {
    "duration": 2644,
    "start_time": "2022-11-26T07:56:27.930Z"
   },
   {
    "duration": 16,
    "start_time": "2022-11-26T07:56:34.028Z"
   },
   {
    "duration": 44,
    "start_time": "2022-11-26T07:56:36.218Z"
   },
   {
    "duration": 156,
    "start_time": "2022-11-26T07:56:41.092Z"
   },
   {
    "duration": 8,
    "start_time": "2022-11-26T07:56:46.499Z"
   },
   {
    "duration": 117,
    "start_time": "2022-11-26T07:56:47.201Z"
   },
   {
    "duration": 8792,
    "start_time": "2022-11-26T07:56:52.567Z"
   },
   {
    "duration": 395,
    "start_time": "2022-11-26T07:57:01.361Z"
   },
   {
    "duration": 9,
    "start_time": "2022-11-26T07:57:10.937Z"
   },
   {
    "duration": 5,
    "start_time": "2022-11-26T08:02:51.140Z"
   },
   {
    "duration": 4,
    "start_time": "2022-11-26T08:03:04.022Z"
   },
   {
    "duration": 8128,
    "start_time": "2022-11-26T08:09:50.027Z"
   },
   {
    "duration": 59,
    "start_time": "2022-11-26T08:10:42.328Z"
   },
   {
    "duration": 744,
    "start_time": "2022-11-26T08:10:59.947Z"
   },
   {
    "duration": 2276,
    "start_time": "2022-11-26T08:11:00.899Z"
   },
   {
    "duration": 8110,
    "start_time": "2022-11-26T08:11:05.187Z"
   },
   {
    "duration": 2138,
    "start_time": "2022-11-26T08:11:14.164Z"
   },
   {
    "duration": 13,
    "start_time": "2022-11-26T08:11:17.639Z"
   },
   {
    "duration": 32,
    "start_time": "2022-11-26T08:11:18.557Z"
   },
   {
    "duration": 167,
    "start_time": "2022-11-26T08:11:19.813Z"
   },
   {
    "duration": 8,
    "start_time": "2022-11-26T08:11:21.401Z"
   },
   {
    "duration": 118,
    "start_time": "2022-11-26T08:11:22.756Z"
   },
   {
    "duration": 6150,
    "start_time": "2022-11-26T08:11:25.850Z"
   },
   {
    "duration": 438,
    "start_time": "2022-11-26T08:11:32.661Z"
   },
   {
    "duration": 9370,
    "start_time": "2022-11-26T08:11:34.690Z"
   },
   {
    "duration": 99,
    "start_time": "2022-11-26T16:45:18.572Z"
   },
   {
    "duration": 12256,
    "start_time": "2022-11-28T16:55:12.317Z"
   },
   {
    "duration": 2287,
    "start_time": "2022-11-28T16:55:24.575Z"
   },
   {
    "duration": 16,
    "start_time": "2022-11-28T16:55:26.863Z"
   },
   {
    "duration": 31,
    "start_time": "2022-11-28T16:55:26.881Z"
   },
   {
    "duration": 155,
    "start_time": "2022-11-28T16:55:26.913Z"
   },
   {
    "duration": 9,
    "start_time": "2022-11-28T16:55:27.070Z"
   },
   {
    "duration": 124,
    "start_time": "2022-11-28T16:55:27.081Z"
   },
   {
    "duration": 8,
    "start_time": "2022-11-28T16:55:27.207Z"
   },
   {
    "duration": 2120,
    "start_time": "2022-11-28T16:55:27.217Z"
   },
   {
    "duration": 8840,
    "start_time": "2022-11-28T16:55:29.341Z"
   },
   {
    "duration": 344,
    "start_time": "2022-11-28T16:55:38.183Z"
   },
   {
    "duration": 17270,
    "start_time": "2022-11-28T16:55:38.529Z"
   },
   {
    "duration": 403,
    "start_time": "2022-11-28T16:55:55.801Z"
   },
   {
    "duration": 0,
    "start_time": "2022-11-28T16:55:56.206Z"
   },
   {
    "duration": 0,
    "start_time": "2022-11-28T16:55:56.207Z"
   },
   {
    "duration": 0,
    "start_time": "2022-11-28T16:55:56.209Z"
   },
   {
    "duration": 0,
    "start_time": "2022-11-28T16:55:56.210Z"
   },
   {
    "duration": 0,
    "start_time": "2022-11-28T16:55:56.212Z"
   },
   {
    "duration": 0,
    "start_time": "2022-11-28T16:55:56.213Z"
   },
   {
    "duration": 0,
    "start_time": "2022-11-28T16:55:56.214Z"
   },
   {
    "duration": 0,
    "start_time": "2022-11-28T16:55:56.215Z"
   },
   {
    "duration": 0,
    "start_time": "2022-11-28T16:55:56.217Z"
   },
   {
    "duration": 0,
    "start_time": "2022-11-28T16:55:56.218Z"
   },
   {
    "duration": 0,
    "start_time": "2022-11-28T16:55:56.220Z"
   },
   {
    "duration": 0,
    "start_time": "2022-11-28T16:55:56.221Z"
   },
   {
    "duration": 1,
    "start_time": "2022-11-28T16:55:56.222Z"
   },
   {
    "duration": 0,
    "start_time": "2022-11-28T16:55:56.224Z"
   },
   {
    "duration": 0,
    "start_time": "2022-11-28T16:55:56.225Z"
   },
   {
    "duration": 0,
    "start_time": "2022-11-28T16:55:56.227Z"
   },
   {
    "duration": 0,
    "start_time": "2022-11-28T16:55:56.228Z"
   },
   {
    "duration": 0,
    "start_time": "2022-11-28T16:55:56.229Z"
   },
   {
    "duration": 0,
    "start_time": "2022-11-28T16:55:56.231Z"
   },
   {
    "duration": 0,
    "start_time": "2022-11-28T16:55:56.232Z"
   },
   {
    "duration": 0,
    "start_time": "2022-11-28T16:55:56.278Z"
   },
   {
    "duration": 57,
    "start_time": "2022-11-28T16:56:52.804Z"
   },
   {
    "duration": 4727,
    "start_time": "2022-11-28T16:57:00.514Z"
   },
   {
    "duration": 3005,
    "start_time": "2022-11-28T16:57:05.242Z"
   },
   {
    "duration": 11,
    "start_time": "2022-11-28T16:57:08.249Z"
   },
   {
    "duration": 47,
    "start_time": "2022-11-28T16:57:08.262Z"
   },
   {
    "duration": 153,
    "start_time": "2022-11-28T16:57:08.312Z"
   },
   {
    "duration": 15,
    "start_time": "2022-11-28T16:57:08.467Z"
   },
   {
    "duration": 111,
    "start_time": "2022-11-28T16:57:08.484Z"
   },
   {
    "duration": 5,
    "start_time": "2022-11-28T16:57:08.597Z"
   },
   {
    "duration": 2174,
    "start_time": "2022-11-28T16:57:08.604Z"
   },
   {
    "duration": 5791,
    "start_time": "2022-11-28T16:57:10.782Z"
   },
   {
    "duration": 354,
    "start_time": "2022-11-28T16:57:16.574Z"
   },
   {
    "duration": 2872,
    "start_time": "2022-11-28T16:57:16.930Z"
   },
   {
    "duration": 6,
    "start_time": "2022-11-28T16:57:19.804Z"
   }
  ],
  "colab": {
   "provenance": [],
   "toc_visible": true
  },
  "kernelspec": {
   "display_name": "Python 3 (ipykernel)",
   "language": "python",
   "name": "python3"
  },
  "language_info": {
   "codemirror_mode": {
    "name": "ipython",
    "version": 3
   },
   "file_extension": ".py",
   "mimetype": "text/x-python",
   "name": "python",
   "nbconvert_exporter": "python",
   "pygments_lexer": "ipython3",
   "version": "3.9.12"
  },
  "toc": {
   "base_numbering": 1,
   "nav_menu": {},
   "number_sections": true,
   "sideBar": true,
   "skip_h1_title": true,
   "title_cell": "Содержание",
   "title_sidebar": "Содержание",
   "toc_cell": true,
   "toc_position": {
    "height": "calc(100% - 180px)",
    "left": "10px",
    "top": "150px",
    "width": "384px"
   },
   "toc_section_display": true,
   "toc_window_display": true
  },
  "widgets": {
   "application/vnd.jupyter.widget-state+json": {
    "045df75a66964ec0b218692fc1f70e8f": {
     "model_module": "@jupyter-widgets/controls",
     "model_module_version": "1.5.0",
     "model_name": "HTMLModel",
     "state": {
      "_dom_classes": [],
      "_model_module": "@jupyter-widgets/controls",
      "_model_module_version": "1.5.0",
      "_model_name": "HTMLModel",
      "_view_count": null,
      "_view_module": "@jupyter-widgets/controls",
      "_view_module_version": "1.5.0",
      "_view_name": "HTMLView",
      "description": "",
      "description_tooltip": null,
      "layout": "IPY_MODEL_53e6a6372369486a9da159d262d80bd0",
      "placeholder": "​",
      "style": "IPY_MODEL_d8880da85d014bf3b8214dc47e2c39f2",
      "value": "100%"
     }
    },
    "3aa5259397e2489a9850da90434eb270": {
     "model_module": "@jupyter-widgets/controls",
     "model_module_version": "1.5.0",
     "model_name": "ProgressStyleModel",
     "state": {
      "_model_module": "@jupyter-widgets/controls",
      "_model_module_version": "1.5.0",
      "_model_name": "ProgressStyleModel",
      "_view_count": null,
      "_view_module": "@jupyter-widgets/base",
      "_view_module_version": "1.2.0",
      "_view_name": "StyleView",
      "bar_color": null,
      "description_width": ""
     }
    },
    "4a78dd4954d04eb9ae3b523ab0db6b15": {
     "model_module": "@jupyter-widgets/controls",
     "model_module_version": "1.5.0",
     "model_name": "HBoxModel",
     "state": {
      "_dom_classes": [],
      "_model_module": "@jupyter-widgets/controls",
      "_model_module_version": "1.5.0",
      "_model_name": "HBoxModel",
      "_view_count": null,
      "_view_module": "@jupyter-widgets/controls",
      "_view_module_version": "1.5.0",
      "_view_name": "HBoxView",
      "box_style": "",
      "children": [
       "IPY_MODEL_045df75a66964ec0b218692fc1f70e8f",
       "IPY_MODEL_b9e994e020fe4c518fb2ac69215073f7",
       "IPY_MODEL_e5a3a2a8a88a4b47b77245b0ee6681bd"
      ],
      "layout": "IPY_MODEL_5e2bfea87598433dba2f7ba6309782d8"
     }
    },
    "53e6a6372369486a9da159d262d80bd0": {
     "model_module": "@jupyter-widgets/base",
     "model_module_version": "1.2.0",
     "model_name": "LayoutModel",
     "state": {
      "_model_module": "@jupyter-widgets/base",
      "_model_module_version": "1.2.0",
      "_model_name": "LayoutModel",
      "_view_count": null,
      "_view_module": "@jupyter-widgets/base",
      "_view_module_version": "1.2.0",
      "_view_name": "LayoutView",
      "align_content": null,
      "align_items": null,
      "align_self": null,
      "border": null,
      "bottom": null,
      "display": null,
      "flex": null,
      "flex_flow": null,
      "grid_area": null,
      "grid_auto_columns": null,
      "grid_auto_flow": null,
      "grid_auto_rows": null,
      "grid_column": null,
      "grid_gap": null,
      "grid_row": null,
      "grid_template_areas": null,
      "grid_template_columns": null,
      "grid_template_rows": null,
      "height": null,
      "justify_content": null,
      "justify_items": null,
      "left": null,
      "margin": null,
      "max_height": null,
      "max_width": null,
      "min_height": null,
      "min_width": null,
      "object_fit": null,
      "object_position": null,
      "order": null,
      "overflow": null,
      "overflow_x": null,
      "overflow_y": null,
      "padding": null,
      "right": null,
      "top": null,
      "visibility": null,
      "width": null
     }
    },
    "5e2bfea87598433dba2f7ba6309782d8": {
     "model_module": "@jupyter-widgets/base",
     "model_module_version": "1.2.0",
     "model_name": "LayoutModel",
     "state": {
      "_model_module": "@jupyter-widgets/base",
      "_model_module_version": "1.2.0",
      "_model_name": "LayoutModel",
      "_view_count": null,
      "_view_module": "@jupyter-widgets/base",
      "_view_module_version": "1.2.0",
      "_view_name": "LayoutView",
      "align_content": null,
      "align_items": null,
      "align_self": null,
      "border": null,
      "bottom": null,
      "display": null,
      "flex": null,
      "flex_flow": null,
      "grid_area": null,
      "grid_auto_columns": null,
      "grid_auto_flow": null,
      "grid_auto_rows": null,
      "grid_column": null,
      "grid_gap": null,
      "grid_row": null,
      "grid_template_areas": null,
      "grid_template_columns": null,
      "grid_template_rows": null,
      "height": null,
      "justify_content": null,
      "justify_items": null,
      "left": null,
      "margin": null,
      "max_height": null,
      "max_width": null,
      "min_height": null,
      "min_width": null,
      "object_fit": null,
      "object_position": null,
      "order": null,
      "overflow": null,
      "overflow_x": null,
      "overflow_y": null,
      "padding": null,
      "right": null,
      "top": null,
      "visibility": null,
      "width": null
     }
    },
    "62a82485da28495fb7da1d66f9d8b0c5": {
     "model_module": "@jupyter-widgets/base",
     "model_module_version": "1.2.0",
     "model_name": "LayoutModel",
     "state": {
      "_model_module": "@jupyter-widgets/base",
      "_model_module_version": "1.2.0",
      "_model_name": "LayoutModel",
      "_view_count": null,
      "_view_module": "@jupyter-widgets/base",
      "_view_module_version": "1.2.0",
      "_view_name": "LayoutView",
      "align_content": null,
      "align_items": null,
      "align_self": null,
      "border": null,
      "bottom": null,
      "display": null,
      "flex": null,
      "flex_flow": null,
      "grid_area": null,
      "grid_auto_columns": null,
      "grid_auto_flow": null,
      "grid_auto_rows": null,
      "grid_column": null,
      "grid_gap": null,
      "grid_row": null,
      "grid_template_areas": null,
      "grid_template_columns": null,
      "grid_template_rows": null,
      "height": null,
      "justify_content": null,
      "justify_items": null,
      "left": null,
      "margin": null,
      "max_height": null,
      "max_width": null,
      "min_height": null,
      "min_width": null,
      "object_fit": null,
      "object_position": null,
      "order": null,
      "overflow": null,
      "overflow_x": null,
      "overflow_y": null,
      "padding": null,
      "right": null,
      "top": null,
      "visibility": null,
      "width": null
     }
    },
    "90ec1baf7ef9468e8a0464df4b4c0748": {
     "model_module": "@jupyter-widgets/controls",
     "model_module_version": "1.5.0",
     "model_name": "DescriptionStyleModel",
     "state": {
      "_model_module": "@jupyter-widgets/controls",
      "_model_module_version": "1.5.0",
      "_model_name": "DescriptionStyleModel",
      "_view_count": null,
      "_view_module": "@jupyter-widgets/base",
      "_view_module_version": "1.2.0",
      "_view_name": "StyleView",
      "description_width": ""
     }
    },
    "b9e994e020fe4c518fb2ac69215073f7": {
     "model_module": "@jupyter-widgets/controls",
     "model_module_version": "1.5.0",
     "model_name": "FloatProgressModel",
     "state": {
      "_dom_classes": [],
      "_model_module": "@jupyter-widgets/controls",
      "_model_module_version": "1.5.0",
      "_model_name": "FloatProgressModel",
      "_view_count": null,
      "_view_module": "@jupyter-widgets/controls",
      "_view_module_version": "1.5.0",
      "_view_name": "ProgressView",
      "bar_style": "success",
      "description": "",
      "description_tooltip": null,
      "layout": "IPY_MODEL_62a82485da28495fb7da1d66f9d8b0c5",
      "max": 10,
      "min": 0,
      "orientation": "horizontal",
      "style": "IPY_MODEL_3aa5259397e2489a9850da90434eb270",
      "value": 10
     }
    },
    "bad9adadcff246fa81a3edc5f4bdaa2d": {
     "model_module": "@jupyter-widgets/base",
     "model_module_version": "1.2.0",
     "model_name": "LayoutModel",
     "state": {
      "_model_module": "@jupyter-widgets/base",
      "_model_module_version": "1.2.0",
      "_model_name": "LayoutModel",
      "_view_count": null,
      "_view_module": "@jupyter-widgets/base",
      "_view_module_version": "1.2.0",
      "_view_name": "LayoutView",
      "align_content": null,
      "align_items": null,
      "align_self": null,
      "border": null,
      "bottom": null,
      "display": null,
      "flex": null,
      "flex_flow": null,
      "grid_area": null,
      "grid_auto_columns": null,
      "grid_auto_flow": null,
      "grid_auto_rows": null,
      "grid_column": null,
      "grid_gap": null,
      "grid_row": null,
      "grid_template_areas": null,
      "grid_template_columns": null,
      "grid_template_rows": null,
      "height": null,
      "justify_content": null,
      "justify_items": null,
      "left": null,
      "margin": null,
      "max_height": null,
      "max_width": null,
      "min_height": null,
      "min_width": null,
      "object_fit": null,
      "object_position": null,
      "order": null,
      "overflow": null,
      "overflow_x": null,
      "overflow_y": null,
      "padding": null,
      "right": null,
      "top": null,
      "visibility": null,
      "width": null
     }
    },
    "d8880da85d014bf3b8214dc47e2c39f2": {
     "model_module": "@jupyter-widgets/controls",
     "model_module_version": "1.5.0",
     "model_name": "DescriptionStyleModel",
     "state": {
      "_model_module": "@jupyter-widgets/controls",
      "_model_module_version": "1.5.0",
      "_model_name": "DescriptionStyleModel",
      "_view_count": null,
      "_view_module": "@jupyter-widgets/base",
      "_view_module_version": "1.2.0",
      "_view_name": "StyleView",
      "description_width": ""
     }
    },
    "e5a3a2a8a88a4b47b77245b0ee6681bd": {
     "model_module": "@jupyter-widgets/controls",
     "model_module_version": "1.5.0",
     "model_name": "HTMLModel",
     "state": {
      "_dom_classes": [],
      "_model_module": "@jupyter-widgets/controls",
      "_model_module_version": "1.5.0",
      "_model_name": "HTMLModel",
      "_view_count": null,
      "_view_module": "@jupyter-widgets/controls",
      "_view_module_version": "1.5.0",
      "_view_name": "HTMLView",
      "description": "",
      "description_tooltip": null,
      "layout": "IPY_MODEL_bad9adadcff246fa81a3edc5f4bdaa2d",
      "placeholder": "​",
      "style": "IPY_MODEL_90ec1baf7ef9468e8a0464df4b4c0748",
      "value": " 10/10 [29:02&lt;00:00, 174.09s/it]"
     }
    }
   }
  }
 },
 "nbformat": 4,
 "nbformat_minor": 1
}
